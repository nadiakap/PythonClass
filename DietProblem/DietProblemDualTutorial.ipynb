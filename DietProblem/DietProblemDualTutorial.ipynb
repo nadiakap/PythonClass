{
 "cells": [
  {
   "cell_type": "markdown",
   "metadata": {},
   "source": [
    "# The Diet Problem - Dual"
   ]
  },
  {
   "cell_type": "markdown",
   "metadata": {},
   "source": [
    "The goal of the diet problem is to find the cheapest combination of foods that will satisfy all the daily nutritional requirements of a person.\n",
    "The diet problem is one of the first optimization problems to be studied back in the 1930's and 40's. It was first motivated by the Army desire to meet the nutritional requirements of the soldier while minimizing the cost. \n",
    "\n",
    "One interesting interpretation of the dual problem (see R.Vanderbei for formal definition of dual) is finding equilibrium prices of nutritional pills given prices and nutritional content of natural foods. However in the modern world many people prefer meal replacement drinks to plain single nutrient pills. In our model we maximize revenue from selling this hypotetical cocktail that is made to repalce daily meal.\n"
   ]
  },
  {
   "cell_type": "markdown",
   "metadata": {},
   "source": [
    "# Mathematical Model for the Dual Problem"
   ]
  },
  {
   "cell_type": "markdown",
   "metadata": {},
   "source": [
    "\n",
    "The problem is formulated as a linear program where the objective is to maximize revenue from selling nutritional drink (daily meal repalcement). Input data is the same as for the  primal diet problem.\n",
    "\n",
    "Let us introduce the following notations:\n",
    "\n",
    "m-number of nutrients, \n",
    "n-number of foods\n",
    "C - vector of food unit cost\n",
    "$$c=(c_1,..c_n)$$\n",
    "matrix A - amount of nutrient j in food i\n",
    "$$A=(a_{ij})$$ \n",
    "b-vector of daily nutritional requirements\n",
    "$$b=(b_1,..b_m)$$\n",
    "U - decision vector ( unit prices of nutrients in the artificially made nutritional drink)\n",
    "$$U=(u_1,..u_m)$$ \n",
    "\n",
    "Then $\\sum_{j=1}^m{b_j u_j}$ is a cost of artificial nutritional drink\n",
    "\n",
    "$\\sum_{j=1}^m{a_{ji} u_j}$ is the cost of nutrients in food i\n",
    "\n",
    "the optimization problem is formulated as follows:\n",
    "\n",
    "objective - maximize revenue from selling artificial nutritional drink:\n",
    "$$\\max_u(\\sum_{j=1}^m{b_j u_j})$$\n",
    "\n",
    "constraints: prices of nutrients from artificial sources should not exceed prices of natural foods.\n",
    "$$\\sum_{j=1}^m{a_{ji} u_j}<=c_i, i=1,n$$\n",
    "bounds on decision variables: unit prices of nutritional elements should not be negative\n",
    "$$u_j>=0, j=1,m$$\n",
    "\n",
    "\n",
    "\n"
   ]
  },
  {
   "cell_type": "raw",
   "metadata": {},
   "source": [
    "# Scipy linear programming solver"
   ]
  },
  {
   "cell_type": "markdown",
   "metadata": {},
   "source": [
    "The above optimization problem ( linear programming problem) can be solved with Python linprog solver from Scipy module (scipy.optimize.linprog). This is a description of linprog functionality:\n",
    "\n",
    "Linear programming: minimize a linear objective function subject to linear equality and inequality constraints.\n",
    "\n",
    "scipy.optimize.linprog(c, A_ub=None, b_ub=None, A_eq=None, b_eq=None, bounds=None, method='highs', callback=None, options=None, x0=None, integrality=None\n",
    "\n",
    "this is a link to full description in scipy documentatation:\n",
    "https://docs.scipy.org/doc/scipy/reference/generated/scipy.optimize.linprog.html\n",
    "\n",
    "We create a python script that loads input data from Excel spreadsheet, transforms it to a form suitable for scipy.optimize.linprog solver, runs scipy.optimize.linprog solver and prints solver output\n",
    "\n"
   ]
  },
  {
   "cell_type": "markdown",
   "metadata": {},
   "source": [
    "# Python script"
   ]
  },
  {
   "cell_type": "markdown",
   "metadata": {},
   "source": [
    "we use pandas read_excel function to read input data"
   ]
  },
  {
   "cell_type": "code",
   "execution_count": 2,
   "metadata": {},
   "outputs": [],
   "source": [
    "import pandas as pd"
   ]
  },
  {
   "cell_type": "markdown",
   "metadata": {},
   "source": [
    "we use numpy to perform vector and matrix operations "
   ]
  },
  {
   "cell_type": "code",
   "execution_count": 3,
   "metadata": {},
   "outputs": [],
   "source": [
    "import numpy as np"
   ]
  },
  {
   "cell_type": "raw",
   "metadata": {},
   "source": [
    "we use scipy.optimize.linprog solver to solve linear programming problem"
   ]
  },
  {
   "cell_type": "code",
   "execution_count": 4,
   "metadata": {},
   "outputs": [],
   "source": [
    "import scipy.optimize as spo"
   ]
  },
  {
   "cell_type": "markdown",
   "metadata": {},
   "source": [
    "this is a spreadsheet with input data"
   ]
  },
  {
   "cell_type": "code",
   "execution_count": 5,
   "metadata": {},
   "outputs": [],
   "source": [
    "data_file = 'DietDataFormatted.xlsx'"
   ]
  },
  {
   "cell_type": "markdown",
   "metadata": {},
   "source": [
    "From this input data we need to prepare matrices and vectors (A,b,c) for linprog input.\n",
    "\n",
    "First, read nutritional info for each food that we want to be in our daily diet."
   ]
  },
  {
   "cell_type": "code",
   "execution_count": 6,
   "metadata": {},
   "outputs": [],
   "source": [
    "df_A = pd.read_excel(data_file,sheet_name='NutritionalInfo',header = 0,index_col = 0)"
   ]
  },
  {
   "cell_type": "code",
   "execution_count": 7,
   "metadata": {},
   "outputs": [
    {
     "data": {
      "text/html": [
       "<div>\n",
       "<style scoped>\n",
       "    .dataframe tbody tr th:only-of-type {\n",
       "        vertical-align: middle;\n",
       "    }\n",
       "\n",
       "    .dataframe tbody tr th {\n",
       "        vertical-align: top;\n",
       "    }\n",
       "\n",
       "    .dataframe thead th {\n",
       "        text-align: right;\n",
       "    }\n",
       "</style>\n",
       "<table border=\"1\" class=\"dataframe\">\n",
       "  <thead>\n",
       "    <tr style=\"text-align: right;\">\n",
       "      <th></th>\n",
       "      <th>fat</th>\n",
       "      <th>vitA</th>\n",
       "      <th>vitC</th>\n",
       "      <th>protein</th>\n",
       "      <th>calories</th>\n",
       "    </tr>\n",
       "  </thead>\n",
       "  <tbody>\n",
       "    <tr>\n",
       "      <th>broccoli</th>\n",
       "      <td>0.8</td>\n",
       "      <td>70.0</td>\n",
       "      <td>160.2</td>\n",
       "      <td>8.0</td>\n",
       "      <td>74.0</td>\n",
       "    </tr>\n",
       "    <tr>\n",
       "      <th>apple</th>\n",
       "      <td>0.5</td>\n",
       "      <td>73.1</td>\n",
       "      <td>7.9</td>\n",
       "      <td>0.3</td>\n",
       "      <td>81.4</td>\n",
       "    </tr>\n",
       "    <tr>\n",
       "      <th>oatm.cookie</th>\n",
       "      <td>3.3</td>\n",
       "      <td>2.9</td>\n",
       "      <td>0.1</td>\n",
       "      <td>1.1</td>\n",
       "      <td>81.0</td>\n",
       "    </tr>\n",
       "    <tr>\n",
       "      <th>milk</th>\n",
       "      <td>4.7</td>\n",
       "      <td>100.0</td>\n",
       "      <td>2.3</td>\n",
       "      <td>8.1</td>\n",
       "      <td>121.2</td>\n",
       "    </tr>\n",
       "    <tr>\n",
       "      <th>chcken</th>\n",
       "      <td>10.8</td>\n",
       "      <td>77.4</td>\n",
       "      <td>2.0</td>\n",
       "      <td>42.2</td>\n",
       "      <td>227.2</td>\n",
       "    </tr>\n",
       "    <tr>\n",
       "      <th>omelette</th>\n",
       "      <td>7.3</td>\n",
       "      <td>409.2</td>\n",
       "      <td>0.1</td>\n",
       "      <td>6.7</td>\n",
       "      <td>99.6</td>\n",
       "    </tr>\n",
       "  </tbody>\n",
       "</table>\n",
       "</div>"
      ],
      "text/plain": [
       "              fat   vitA   vitC  protein  calories\n",
       "broccoli      0.8   70.0  160.2      8.0      74.0\n",
       "apple         0.5   73.1    7.9      0.3      81.4\n",
       "oatm.cookie   3.3    2.9    0.1      1.1      81.0\n",
       "milk          4.7  100.0    2.3      8.1     121.2\n",
       "chcken       10.8   77.4    2.0     42.2     227.2\n",
       "omelette      7.3  409.2    0.1      6.7      99.6"
      ]
     },
     "execution_count": 7,
     "metadata": {},
     "output_type": "execute_result"
    }
   ],
   "source": [
    "df_A"
   ]
  },
  {
   "cell_type": "markdown",
   "metadata": {},
   "source": [
    "convert this DataFrame into numpy array A "
   ]
  },
  {
   "cell_type": "code",
   "execution_count": 8,
   "metadata": {},
   "outputs": [],
   "source": [
    "A = df_A.to_numpy() # we transpose  matrix used in primal problem: np.transpose(df_A.to_numpy())"
   ]
  },
  {
   "cell_type": "code",
   "execution_count": 47,
   "metadata": {},
   "outputs": [
    {
     "data": {
      "text/plain": [
       "array([[8.000e-01, 5.000e-01, 3.300e+00, 4.700e+00, 1.080e+01, 7.300e+00],\n",
       "       [7.000e+01, 7.310e+01, 2.900e+00, 1.000e+02, 7.740e+01, 4.092e+02],\n",
       "       [1.602e+02, 7.900e+00, 1.000e-01, 2.300e+00, 2.000e+00, 1.000e-01],\n",
       "       [8.000e+00, 3.000e-01, 1.100e+00, 8.100e+00, 4.220e+01, 6.700e+00],\n",
       "       [7.400e+01, 8.140e+01, 8.100e+01, 1.212e+02, 2.272e+02, 9.960e+01]])"
      ]
     },
     "execution_count": 47,
     "metadata": {},
     "output_type": "execute_result"
    }
   ],
   "source": [
    "A"
   ]
  },
  {
   "cell_type": "markdown",
   "metadata": {},
   "source": [
    "read daily requirements info for each nutrient"
   ]
  },
  {
   "cell_type": "code",
   "execution_count": 10,
   "metadata": {},
   "outputs": [],
   "source": [
    "df_b = pd.read_excel(data_file,sheet_name='Requirements',header = 0,index_col = 0)"
   ]
  },
  {
   "cell_type": "code",
   "execution_count": 11,
   "metadata": {},
   "outputs": [
    {
     "data": {
      "text/html": [
       "<div>\n",
       "<style scoped>\n",
       "    .dataframe tbody tr th:only-of-type {\n",
       "        vertical-align: middle;\n",
       "    }\n",
       "\n",
       "    .dataframe tbody tr th {\n",
       "        vertical-align: top;\n",
       "    }\n",
       "\n",
       "    .dataframe thead th {\n",
       "        text-align: right;\n",
       "    }\n",
       "</style>\n",
       "<table border=\"1\" class=\"dataframe\">\n",
       "  <thead>\n",
       "    <tr style=\"text-align: right;\">\n",
       "      <th></th>\n",
       "      <th>fat</th>\n",
       "      <th>vitA</th>\n",
       "      <th>vitC</th>\n",
       "      <th>protein</th>\n",
       "      <th>calories</th>\n",
       "    </tr>\n",
       "  </thead>\n",
       "  <tbody>\n",
       "    <tr>\n",
       "      <th>lower bounds</th>\n",
       "      <td>20</td>\n",
       "      <td>50</td>\n",
       "      <td>50</td>\n",
       "      <td>50</td>\n",
       "      <td>1000</td>\n",
       "    </tr>\n",
       "    <tr>\n",
       "      <th>upper bounds</th>\n",
       "      <td>65</td>\n",
       "      <td>600</td>\n",
       "      <td>300</td>\n",
       "      <td>110</td>\n",
       "      <td>2000</td>\n",
       "    </tr>\n",
       "  </tbody>\n",
       "</table>\n",
       "</div>"
      ],
      "text/plain": [
       "              fat  vitA  vitC  protein  calories\n",
       "lower bounds   20    50    50       50      1000\n",
       "upper bounds   65   600   300      110      2000"
      ]
     },
     "execution_count": 11,
     "metadata": {},
     "output_type": "execute_result"
    }
   ],
   "source": [
    "df_b"
   ]
  },
  {
   "cell_type": "raw",
   "metadata": {},
   "source": [
    "we use upper bounds for requirements, and multiply vector b by -1, since we need to solve maximization problem whereas linprog is created to solve minimzation problems. by multiplying we transform our maximization problem to minimization problem"
   ]
  },
  {
   "cell_type": "code",
   "execution_count": 16,
   "metadata": {},
   "outputs": [],
   "source": [
    "b = -df_b.to_numpy()[1]\n"
   ]
  },
  {
   "cell_type": "code",
   "execution_count": 17,
   "metadata": {},
   "outputs": [
    {
     "data": {
      "text/plain": [
       "array([  -65,  -600,  -300,  -110, -2000], dtype=int64)"
      ]
     },
     "execution_count": 17,
     "metadata": {},
     "output_type": "execute_result"
    }
   ],
   "source": [
    "b"
   ]
  },
  {
   "cell_type": "markdown",
   "metadata": {},
   "source": [
    "read food unit costs"
   ]
  },
  {
   "cell_type": "code",
   "execution_count": 18,
   "metadata": {},
   "outputs": [],
   "source": [
    "df_c = pd.read_excel(data_file,sheet_name='UnitCosts',header = None,index_col = 0)"
   ]
  },
  {
   "cell_type": "code",
   "execution_count": 19,
   "metadata": {},
   "outputs": [
    {
     "data": {
      "text/html": [
       "<div>\n",
       "<style scoped>\n",
       "    .dataframe tbody tr th:only-of-type {\n",
       "        vertical-align: middle;\n",
       "    }\n",
       "\n",
       "    .dataframe tbody tr th {\n",
       "        vertical-align: top;\n",
       "    }\n",
       "\n",
       "    .dataframe thead th {\n",
       "        text-align: right;\n",
       "    }\n",
       "</style>\n",
       "<table border=\"1\" class=\"dataframe\">\n",
       "  <thead>\n",
       "    <tr style=\"text-align: right;\">\n",
       "      <th></th>\n",
       "      <th>1</th>\n",
       "    </tr>\n",
       "    <tr>\n",
       "      <th>0</th>\n",
       "      <th></th>\n",
       "    </tr>\n",
       "  </thead>\n",
       "  <tbody>\n",
       "    <tr>\n",
       "      <th>broccoli</th>\n",
       "      <td>0.16</td>\n",
       "    </tr>\n",
       "    <tr>\n",
       "      <th>apple</th>\n",
       "      <td>0.24</td>\n",
       "    </tr>\n",
       "    <tr>\n",
       "      <th>oatm.cookie</th>\n",
       "      <td>0.09</td>\n",
       "    </tr>\n",
       "    <tr>\n",
       "      <th>milk</th>\n",
       "      <td>0.23</td>\n",
       "    </tr>\n",
       "    <tr>\n",
       "      <th>chcken</th>\n",
       "      <td>0.84</td>\n",
       "    </tr>\n",
       "    <tr>\n",
       "      <th>omelette</th>\n",
       "      <td>0.11</td>\n",
       "    </tr>\n",
       "  </tbody>\n",
       "</table>\n",
       "</div>"
      ],
      "text/plain": [
       "                1\n",
       "0                \n",
       "broccoli     0.16\n",
       "apple        0.24\n",
       "oatm.cookie  0.09\n",
       "milk         0.23\n",
       "chcken       0.84\n",
       "omelette     0.11"
      ]
     },
     "execution_count": 19,
     "metadata": {},
     "output_type": "execute_result"
    }
   ],
   "source": [
    "df_c"
   ]
  },
  {
   "cell_type": "markdown",
   "metadata": {},
   "source": [
    "create numpy array from unit costs data"
   ]
  },
  {
   "cell_type": "code",
   "execution_count": 20,
   "metadata": {},
   "outputs": [],
   "source": [
    "c = df_c.to_numpy().flatten()"
   ]
  },
  {
   "cell_type": "code",
   "execution_count": 21,
   "metadata": {},
   "outputs": [
    {
     "data": {
      "text/plain": [
       "array([0.16, 0.24, 0.09, 0.23, 0.84, 0.11])"
      ]
     },
     "execution_count": 21,
     "metadata": {},
     "output_type": "execute_result"
    }
   ],
   "source": [
    "c"
   ]
  },
  {
   "cell_type": "raw",
   "metadata": {},
   "source": [
    "create bounds for decision variables"
   ]
  },
  {
   "cell_type": "code",
   "execution_count": 43,
   "metadata": {},
   "outputs": [],
   "source": [
    "bound = (0, 100)\n",
    "m = b.shape[0]\n",
    "bounds = ((bound, ) * m)"
   ]
  },
  {
   "cell_type": "code",
   "execution_count": 44,
   "metadata": {},
   "outputs": [
    {
     "data": {
      "text/plain": [
       "((0, 100), (0, 100), (0, 100), (0, 100), (0, 100))"
      ]
     },
     "execution_count": 44,
     "metadata": {},
     "output_type": "execute_result"
    }
   ],
   "source": [
    "bounds"
   ]
  },
  {
   "cell_type": "markdown",
   "metadata": {},
   "source": [
    "input matrices and vectors A,b,c are ready, we can run linprog solver"
   ]
  },
  {
   "cell_type": "code",
   "execution_count": 45,
   "metadata": {},
   "outputs": [],
   "source": [
    "res=spo.linprog(b,A_ub=A,b_ub=c,bounds=bounds)"
   ]
  },
  {
   "cell_type": "raw",
   "metadata": {},
   "source": [
    "the result of optimization is a complex object that contains information about optimal vaue of objective function (cost of  meal replacement drink), values of decision variables (prices of individual nutrients), and the optimzation process info"
   ]
  },
  {
   "cell_type": "code",
   "execution_count": 46,
   "metadata": {},
   "outputs": [
    {
     "data": {
      "text/plain": [
       "        message: Optimization terminated successfully. (HiGHS Status 7: Optimal)\n",
       "        success: True\n",
       "         status: 0\n",
       "            fun: -2.3545006056988362\n",
       "              x: [ 0.000e+00  0.000e+00  4.888e-04  0.000e+00  1.104e-03]\n",
       "            nit: 2\n",
       "          lower:  residual: [ 0.000e+00  0.000e+00  4.888e-04  0.000e+00\n",
       "                              1.104e-03]\n",
       "                 marginals: [ 7.298e+01  7.181e+03  0.000e+00  3.016e+01\n",
       "                              0.000e+00]\n",
       "          upper:  residual: [ 1.000e+02  1.000e+02  1.000e+02  1.000e+02\n",
       "                              1.000e+02]\n",
       "                 marginals: [ 0.000e+00  0.000e+00  0.000e+00  0.000e+00\n",
       "                              0.000e+00]\n",
       "          eqlin:  residual: []\n",
       "                 marginals: []\n",
       "        ineqlin:  residual: [ 0.000e+00  1.463e-01  5.330e-04  9.508e-02\n",
       "                              5.882e-01  0.000e+00]\n",
       "                 marginals: [-1.861e+00 -0.000e+00 -0.000e+00 -0.000e+00\n",
       "                             -0.000e+00 -1.870e+01]\n",
       " mip_node_count: 0\n",
       " mip_dual_bound: 0.0\n",
       "        mip_gap: 0.0"
      ]
     },
     "execution_count": 46,
     "metadata": {},
     "output_type": "execute_result"
    }
   ],
   "source": [
    "res"
   ]
  },
  {
   "cell_type": "markdown",
   "metadata": {},
   "source": [
    "from the result object we print daily meal overview as follows"
   ]
  },
  {
   "cell_type": "code",
   "execution_count": 47,
   "metadata": {},
   "outputs": [
    {
     "name": "stdout",
     "output_type": "stream",
     "text": [
      "**********************************************************\n",
      "cost of daily meal, optimized: -2.3545006056988362\n",
      "**********************************************************\n",
      "here is the meal plan ( number of servings of each food):\n",
      "broccoli : 0.0\n",
      "apple : 0.0\n",
      "oatm.cookie : 0.0004888227873181963\n",
      "milk : 0.0\n",
      "chcken : 0.0011039268847516887\n"
     ]
    },
    {
     "ename": "IndexError",
     "evalue": "index 5 is out of bounds for axis 0 with size 5",
     "output_type": "error",
     "traceback": [
      "\u001b[1;31m---------------------------------------------------------------------------\u001b[0m",
      "\u001b[1;31mIndexError\u001b[0m                                Traceback (most recent call last)",
      "Cell \u001b[1;32mIn[47], line 6\u001b[0m\n\u001b[0;32m      4\u001b[0m \u001b[38;5;28mprint\u001b[39m (\u001b[38;5;124m'\u001b[39m\u001b[38;5;124mhere is the meal plan ( number of servings of each food):\u001b[39m\u001b[38;5;124m'\u001b[39m)\n\u001b[0;32m      5\u001b[0m \u001b[38;5;28;01mfor\u001b[39;00m i \u001b[38;5;129;01min\u001b[39;00m \u001b[38;5;28mrange\u001b[39m(\u001b[38;5;28mlen\u001b[39m(df_A\u001b[38;5;241m.\u001b[39mindex)):\n\u001b[1;32m----> 6\u001b[0m     \u001b[38;5;28mprint\u001b[39m (df_A\u001b[38;5;241m.\u001b[39mindex[i], \u001b[38;5;124m'\u001b[39m\u001b[38;5;124m:\u001b[39m\u001b[38;5;124m'\u001b[39m, \u001b[43mres\u001b[49m\u001b[38;5;241;43m.\u001b[39;49m\u001b[43mx\u001b[49m\u001b[43m[\u001b[49m\u001b[43mi\u001b[49m\u001b[43m]\u001b[49m)\n\u001b[0;32m      8\u001b[0m \u001b[38;5;28mprint\u001b[39m (\u001b[38;5;124m'\u001b[39m\u001b[38;5;124m**********************************************************\u001b[39m\u001b[38;5;124m'\u001b[39m)    \n\u001b[0;32m      9\u001b[0m \u001b[38;5;28mprint\u001b[39m (\u001b[38;5;124m'\u001b[39m\u001b[38;5;124myou are getting these nutrients:\u001b[39m\u001b[38;5;124m'\u001b[39m)    \n",
      "\u001b[1;31mIndexError\u001b[0m: index 5 is out of bounds for axis 0 with size 5"
     ]
    }
   ],
   "source": [
    "print ('**********************************************************')   \n",
    "print ('cost of daily meal, optimized:', res.fun)\n",
    "print ('**********************************************************')   \n",
    "print ('here is the meal plan ( number of servings of each food):')\n",
    "for i in range(len(df_A.index)):\n",
    "    print (df_A.index[i], ':', res.x[i])\n",
    "\n",
    "print ('**********************************************************')    \n",
    "print ('you are getting these nutrients:')    \n",
    "for j in range(len(df_A.columns)):\n",
    "    nutrient_j = 0.0\n",
    "    for i in range(len(df_A.index)):\n",
    "        nutrient_j += A[j,i]*res.x[i]\n",
    "    print (df_A.columns[j] , ':', nutrient_j)    "
   ]
  },
  {
   "cell_type": "code",
   "execution_count": null,
   "metadata": {},
   "outputs": [],
   "source": []
  },
  {
   "cell_type": "code",
   "execution_count": null,
   "metadata": {},
   "outputs": [],
   "source": []
  }
 ],
 "metadata": {
  "kernelspec": {
   "display_name": "Python 3 (ipykernel)",
   "language": "python",
   "name": "python3"
  },
  "language_info": {
   "codemirror_mode": {
    "name": "ipython",
    "version": 3
   },
   "file_extension": ".py",
   "mimetype": "text/x-python",
   "name": "python",
   "nbconvert_exporter": "python",
   "pygments_lexer": "ipython3",
   "version": "3.10.9"
  }
 },
 "nbformat": 4,
 "nbformat_minor": 2
}
