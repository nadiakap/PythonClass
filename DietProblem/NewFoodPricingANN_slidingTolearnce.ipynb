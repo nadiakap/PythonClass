{
 "cells": [
  {
   "cell_type": "markdown",
   "metadata": {},
   "source": [
    "# Neural Network for pricing new products"
   ]
  },
  {
   "cell_type": "markdown",
   "metadata": {},
   "source": [
    "Many factors affect food prices such as productivity, government policies,etc. These factors affect food prices directly or indirectly- we do not have exact formula for computing prices knowing values of factors, besides, there are many unknown or hidden factors.. Such problem is a good candidate for solution by ML methods.We use data ( prices of different foods with their nutritional content ) to train the model and then use it to assign a price to a new product given isnutritional content.\n",
    "Such a data is always available , in contrast to data needed for using ML in say predicting bankruptcy of the firm of probability of natural cataclysm.\n",
    "Let us consider a problem of pricing a new product in food industry. \n",
    "We will build and train neural network to perform this task.\n",
    "\n",
    "Prerequisite for this project: familiarity with diet optimization problem\n",
    "\n",
    "These are several steps in this task:\n",
    "\n",
    "1.\tMathematical model.\n",
    "\n",
    "2.\tData\n",
    "\n",
    "3.\tNeural network construction\n",
    "\n",
    "4.\tNeural network training:\n",
    "\n",
    "    a.\tAlgorithm\n",
    "    b.\tData\n",
    "    c.\tResults\n",
    "    d.\tInterpretation\n",
    "\n",
    "5.\tConclusion\n",
    "\n",
    "To remind, the goal of the diet problem is to find the cheapest combination of foods that will satisfy all the daily nutritional requirements of a person. For this problem we used food dataset : each row of data represented one food item, each column represented certain nutrien, such as fat, protein, fiber, etc, and one column had unit prices of food items.\n",
    "We use the same dataset to train neural network to perform pricing of new product such as energy drink. To test our neural network we price one of popular energy drink products and see if real market proce is close to the price predicted by ANN.\n"
   ]
  },
  {
   "cell_type": "raw",
   "metadata": {},
   "source": [
    "# Mathematical Model"
   ]
  },
  {
   "cell_type": "raw",
   "metadata": {},
   "source": [
    "\n",
    "\n",
    "\n",
    "Let us introduce the following notations:\n",
    "\n",
    "m-number of nutrients ( number of features in machine learning model)\n",
    "n-number of foods ( number of training samles)\n",
    "Y - vector of food unit cost (target)\n",
    "$$y=(y_1,..y_n)$$\n",
    "matrix X - amount of nutrient j in food i\n",
    "$$X=(x_{ij})$$ \n",
    "\n"
   ]
  },
  {
   "cell_type": "markdown",
   "metadata": {},
   "source": [
    "# Scikit learn multi layer perceptron (MLP)"
   ]
  },
  {
   "cell_type": "markdown",
   "metadata": {},
   "source": [
    "We use multi layer perceptron model from scikit learn (we use perceptron with 2 hidden layers) (sklearn.neural_network.MLP). This is a description of MLP:\n",
    "\n",
    "MLPRegressor\n",
    "sklearn.neural_network.MLPRegressor(hidden_layer_sizes=(100,), activation='relu', *, solver='adam', alpha=0.0001, batch_size='auto', learning_rate='constant', learning_rate_init=0.001, power_t=0.5, max_iter=200, shuffle=True, random_state=None, tol=0.0001, verbose=False, warm_start=False, momentum=0.9, nesterovs_momentum=True, early_stopping=False, validation_fraction=0.1, beta_1=0.9, beta_2=0.999, epsilon=1e-08, n_iter_no_change=10, max_fun=15000)\n",
    "\n",
    "this is a link to full description in scikit-learn documentatation:\n",
    "https://scikit-learn.org/stable/modules/generated/sklearn.neural_network.MLPRegressor.html#sklearn.neural_network.MLPRegressor\n",
    "\n",
    "We create a python script that loads input data from Excel spreadsheet, transforms it to a form suitable for MLPRegressor model, runs MLPRegressor and prints the output\n",
    "\n",
    "\n",
    "\n",
    "# Python script"
   ]
  },
  {
   "cell_type": "markdown",
   "metadata": {},
   "source": [
    "we use pandas read_excel function to read input data"
   ]
  },
  {
   "cell_type": "code",
   "execution_count": 3,
   "metadata": {},
   "outputs": [],
   "source": [
    "import pandas as pd"
   ]
  },
  {
   "cell_type": "markdown",
   "metadata": {},
   "source": [
    "we use numpy to perform vector and matrix operations "
   ]
  },
  {
   "cell_type": "code",
   "execution_count": 4,
   "metadata": {},
   "outputs": [],
   "source": [
    "import numpy as np\n"
   ]
  },
  {
   "cell_type": "code",
   "execution_count": 5,
   "metadata": {},
   "outputs": [],
   "source": [
    "from sklearn.neural_network import MLPRegressor"
   ]
  },
  {
   "cell_type": "markdown",
   "metadata": {},
   "source": [
    "this is a spreadsheet with input data"
   ]
  },
  {
   "cell_type": "code",
   "execution_count": 6,
   "metadata": {},
   "outputs": [],
   "source": [
    "data_file = 'NutritionFacts.xlsx'"
   ]
  },
  {
   "cell_type": "raw",
   "metadata": {},
   "source": [
    "Read data into pandas dataframe"
   ]
  },
  {
   "cell_type": "code",
   "execution_count": 7,
   "metadata": {},
   "outputs": [],
   "source": [
    "df = pd.read_excel(data_file,header=0,index_col = 0)\n"
   ]
  },
  {
   "cell_type": "code",
   "execution_count": 8,
   "metadata": {},
   "outputs": [
    {
     "data": {
      "text/html": [
       "<div>\n",
       "<style scoped>\n",
       "    .dataframe tbody tr th:only-of-type {\n",
       "        vertical-align: middle;\n",
       "    }\n",
       "\n",
       "    .dataframe tbody tr th {\n",
       "        vertical-align: top;\n",
       "    }\n",
       "\n",
       "    .dataframe thead th {\n",
       "        text-align: right;\n",
       "    }\n",
       "</style>\n",
       "<table border=\"1\" class=\"dataframe\">\n",
       "  <thead>\n",
       "    <tr style=\"text-align: right;\">\n",
       "      <th></th>\n",
       "      <th>Cost</th>\n",
       "      <th>NewCost</th>\n",
       "      <th>Serving Size</th>\n",
       "      <th>Calories</th>\n",
       "      <th>Cholesterol mg</th>\n",
       "      <th>Total_Fat g</th>\n",
       "      <th>Sodium mg</th>\n",
       "      <th>Carbohydrates g</th>\n",
       "      <th>Dietary_Fiber g</th>\n",
       "      <th>Protein g</th>\n",
       "      <th>Vit_A IU</th>\n",
       "      <th>Vit_C IU</th>\n",
       "      <th>Calcium mg</th>\n",
       "      <th>Iron mg</th>\n",
       "    </tr>\n",
       "    <tr>\n",
       "      <th>Foods</th>\n",
       "      <th></th>\n",
       "      <th></th>\n",
       "      <th></th>\n",
       "      <th></th>\n",
       "      <th></th>\n",
       "      <th></th>\n",
       "      <th></th>\n",
       "      <th></th>\n",
       "      <th></th>\n",
       "      <th></th>\n",
       "      <th></th>\n",
       "      <th></th>\n",
       "      <th></th>\n",
       "      <th></th>\n",
       "    </tr>\n",
       "  </thead>\n",
       "  <tbody>\n",
       "    <tr>\n",
       "      <th>Bagels</th>\n",
       "      <td>0.16</td>\n",
       "      <td>0.80</td>\n",
       "      <td>1 Oz</td>\n",
       "      <td>78.00</td>\n",
       "      <td>0.0</td>\n",
       "      <td>0.50</td>\n",
       "      <td>151.40</td>\n",
       "      <td>15.10</td>\n",
       "      <td>0.6</td>\n",
       "      <td>3.0</td>\n",
       "      <td>0.00</td>\n",
       "      <td>0.00</td>\n",
       "      <td>21.0</td>\n",
       "      <td>1.00</td>\n",
       "    </tr>\n",
       "    <tr>\n",
       "      <th>Couscous</th>\n",
       "      <td>0.39</td>\n",
       "      <td>1.95</td>\n",
       "      <td>1/2 Cup</td>\n",
       "      <td>100.80</td>\n",
       "      <td>0.0</td>\n",
       "      <td>0.10</td>\n",
       "      <td>4.50</td>\n",
       "      <td>20.90</td>\n",
       "      <td>1.3</td>\n",
       "      <td>3.4</td>\n",
       "      <td>0.00</td>\n",
       "      <td>0.00</td>\n",
       "      <td>7.2</td>\n",
       "      <td>0.30</td>\n",
       "    </tr>\n",
       "    <tr>\n",
       "      <th>Macaroni,Ckd</th>\n",
       "      <td>0.17</td>\n",
       "      <td>0.85</td>\n",
       "      <td>1/2 Cup</td>\n",
       "      <td>98.70</td>\n",
       "      <td>0.0</td>\n",
       "      <td>0.50</td>\n",
       "      <td>0.70</td>\n",
       "      <td>19.80</td>\n",
       "      <td>0.9</td>\n",
       "      <td>3.3</td>\n",
       "      <td>0.00</td>\n",
       "      <td>0.00</td>\n",
       "      <td>4.9</td>\n",
       "      <td>1.00</td>\n",
       "    </tr>\n",
       "    <tr>\n",
       "      <th>Malt-O-Meal,Choc</th>\n",
       "      <td>0.52</td>\n",
       "      <td>2.60</td>\n",
       "      <td>1 C</td>\n",
       "      <td>607.20</td>\n",
       "      <td>0.0</td>\n",
       "      <td>1.50</td>\n",
       "      <td>16.50</td>\n",
       "      <td>128.20</td>\n",
       "      <td>0.0</td>\n",
       "      <td>17.3</td>\n",
       "      <td>0.00</td>\n",
       "      <td>0.00</td>\n",
       "      <td>23.1</td>\n",
       "      <td>47.20</td>\n",
       "    </tr>\n",
       "    <tr>\n",
       "      <th>Peanut Butter</th>\n",
       "      <td>0.07</td>\n",
       "      <td>0.35</td>\n",
       "      <td>2 Tbsp</td>\n",
       "      <td>188.50</td>\n",
       "      <td>0.0</td>\n",
       "      <td>16.00</td>\n",
       "      <td>155.50</td>\n",
       "      <td>6.90</td>\n",
       "      <td>2.1</td>\n",
       "      <td>7.7</td>\n",
       "      <td>0.00</td>\n",
       "      <td>0.00</td>\n",
       "      <td>13.1</td>\n",
       "      <td>0.60</td>\n",
       "    </tr>\n",
       "    <tr>\n",
       "      <th>...</th>\n",
       "      <td>...</td>\n",
       "      <td>...</td>\n",
       "      <td>...</td>\n",
       "      <td>...</td>\n",
       "      <td>...</td>\n",
       "      <td>...</td>\n",
       "      <td>...</td>\n",
       "      <td>...</td>\n",
       "      <td>...</td>\n",
       "      <td>...</td>\n",
       "      <td>...</td>\n",
       "      <td>...</td>\n",
       "      <td>...</td>\n",
       "      <td>...</td>\n",
       "    </tr>\n",
       "    <tr>\n",
       "      <th>Vegetbeef Soup</th>\n",
       "      <td>0.71</td>\n",
       "      <td>3.55</td>\n",
       "      <td>1 C (8 Fl Oz)</td>\n",
       "      <td>158.10</td>\n",
       "      <td>10.0</td>\n",
       "      <td>3.80</td>\n",
       "      <td>1915.10</td>\n",
       "      <td>20.40</td>\n",
       "      <td>4.0</td>\n",
       "      <td>11.2</td>\n",
       "      <td>3785.10</td>\n",
       "      <td>4.80</td>\n",
       "      <td>32.6</td>\n",
       "      <td>2.20</td>\n",
       "    </tr>\n",
       "    <tr>\n",
       "      <th>Splt Pea&amp;Hamsoup</th>\n",
       "      <td>0.67</td>\n",
       "      <td>3.35</td>\n",
       "      <td>1 C (8 Fl Oz)</td>\n",
       "      <td>184.80</td>\n",
       "      <td>7.2</td>\n",
       "      <td>4.00</td>\n",
       "      <td>964.80</td>\n",
       "      <td>26.80</td>\n",
       "      <td>4.1</td>\n",
       "      <td>11.1</td>\n",
       "      <td>4872.00</td>\n",
       "      <td>7.00</td>\n",
       "      <td>33.6</td>\n",
       "      <td>2.10</td>\n",
       "    </tr>\n",
       "    <tr>\n",
       "      <th>Frozen Broccoli</th>\n",
       "      <td>0.16</td>\n",
       "      <td>0.80</td>\n",
       "      <td>10 Oz Pkg</td>\n",
       "      <td>73.80</td>\n",
       "      <td>0.0</td>\n",
       "      <td>0.80</td>\n",
       "      <td>68.20</td>\n",
       "      <td>13.60</td>\n",
       "      <td>8.5</td>\n",
       "      <td>8.0</td>\n",
       "      <td>5867.40</td>\n",
       "      <td>160.20</td>\n",
       "      <td>159.0</td>\n",
       "      <td>2.30</td>\n",
       "    </tr>\n",
       "    <tr>\n",
       "      <th>Carrots,Raw</th>\n",
       "      <td>0.07</td>\n",
       "      <td>0.35</td>\n",
       "      <td>1/2 Cup Shredded</td>\n",
       "      <td>23.70</td>\n",
       "      <td>0.0</td>\n",
       "      <td>0.10</td>\n",
       "      <td>19.20</td>\n",
       "      <td>5.60</td>\n",
       "      <td>1.6</td>\n",
       "      <td>0.6</td>\n",
       "      <td>15471.00</td>\n",
       "      <td>5.10</td>\n",
       "      <td>14.9</td>\n",
       "      <td>0.30</td>\n",
       "    </tr>\n",
       "    <tr>\n",
       "      <th>Frozen Broccoli</th>\n",
       "      <td>0.16</td>\n",
       "      <td>0.80</td>\n",
       "      <td>2 Oz Pkg</td>\n",
       "      <td>14.76</td>\n",
       "      <td>0.0</td>\n",
       "      <td>0.16</td>\n",
       "      <td>13.64</td>\n",
       "      <td>2.72</td>\n",
       "      <td>1.7</td>\n",
       "      <td>1.6</td>\n",
       "      <td>1173.48</td>\n",
       "      <td>32.04</td>\n",
       "      <td>31.8</td>\n",
       "      <td>0.46</td>\n",
       "    </tr>\n",
       "  </tbody>\n",
       "</table>\n",
       "<p>65 rows × 14 columns</p>\n",
       "</div>"
      ],
      "text/plain": [
       "                  Cost  NewCost      Serving Size  Calories  Cholesterol mg  \\\n",
       "Foods                                                                         \n",
       "Bagels            0.16     0.80              1 Oz     78.00             0.0   \n",
       "Couscous          0.39     1.95           1/2 Cup    100.80             0.0   \n",
       "Macaroni,Ckd      0.17     0.85           1/2 Cup     98.70             0.0   \n",
       "Malt-O-Meal,Choc  0.52     2.60               1 C    607.20             0.0   \n",
       "Peanut Butter     0.07     0.35            2 Tbsp    188.50             0.0   \n",
       "...                ...      ...               ...       ...             ...   \n",
       "Vegetbeef Soup    0.71     3.55     1 C (8 Fl Oz)    158.10            10.0   \n",
       "Splt Pea&Hamsoup  0.67     3.35     1 C (8 Fl Oz)    184.80             7.2   \n",
       "Frozen Broccoli   0.16     0.80         10 Oz Pkg     73.80             0.0   \n",
       "Carrots,Raw       0.07     0.35  1/2 Cup Shredded     23.70             0.0   \n",
       "Frozen Broccoli   0.16     0.80          2 Oz Pkg     14.76             0.0   \n",
       "\n",
       "                  Total_Fat g  Sodium mg  Carbohydrates g  Dietary_Fiber g  \\\n",
       "Foods                                                                        \n",
       "Bagels                   0.50     151.40            15.10              0.6   \n",
       "Couscous                 0.10       4.50            20.90              1.3   \n",
       "Macaroni,Ckd             0.50       0.70            19.80              0.9   \n",
       "Malt-O-Meal,Choc         1.50      16.50           128.20              0.0   \n",
       "Peanut Butter           16.00     155.50             6.90              2.1   \n",
       "...                       ...        ...              ...              ...   \n",
       "Vegetbeef Soup           3.80    1915.10            20.40              4.0   \n",
       "Splt Pea&Hamsoup         4.00     964.80            26.80              4.1   \n",
       "Frozen Broccoli          0.80      68.20            13.60              8.5   \n",
       "Carrots,Raw              0.10      19.20             5.60              1.6   \n",
       "Frozen Broccoli          0.16      13.64             2.72              1.7   \n",
       "\n",
       "                  Protein g  Vit_A IU  Vit_C IU  Calcium mg  Iron mg  \n",
       "Foods                                                                 \n",
       "Bagels                  3.0      0.00      0.00        21.0     1.00  \n",
       "Couscous                3.4      0.00      0.00         7.2     0.30  \n",
       "Macaroni,Ckd            3.3      0.00      0.00         4.9     1.00  \n",
       "Malt-O-Meal,Choc       17.3      0.00      0.00        23.1    47.20  \n",
       "Peanut Butter           7.7      0.00      0.00        13.1     0.60  \n",
       "...                     ...       ...       ...         ...      ...  \n",
       "Vegetbeef Soup         11.2   3785.10      4.80        32.6     2.20  \n",
       "Splt Pea&Hamsoup       11.1   4872.00      7.00        33.6     2.10  \n",
       "Frozen Broccoli         8.0   5867.40    160.20       159.0     2.30  \n",
       "Carrots,Raw             0.6  15471.00      5.10        14.9     0.30  \n",
       "Frozen Broccoli         1.6   1173.48     32.04        31.8     0.46  \n",
       "\n",
       "[65 rows x 14 columns]"
      ]
     },
     "execution_count": 8,
     "metadata": {},
     "output_type": "execute_result"
    }
   ],
   "source": [
    "df"
   ]
  },
  {
   "cell_type": "code",
   "execution_count": 9,
   "metadata": {},
   "outputs": [],
   "source": [
    "y = np.asarray(df['NewCost'])\n"
   ]
  },
  {
   "cell_type": "code",
   "execution_count": 10,
   "metadata": {},
   "outputs": [
    {
     "data": {
      "text/plain": [
       "array([0.8 , 1.95, 0.85, 2.6 , 0.35, 0.3 , 0.6 , 0.25, 0.3 , 0.4 , 1.65,\n",
       "       0.75, 1.35, 0.75, 1.55, 0.45, 4.05, 3.75, 1.6 , 0.8 , 4.1 , 1.55,\n",
       "       0.2 , 2.25, 0.2 , 0.95, 1.1 , 0.1 , 3.45, 1.2 , 4.2 , 0.75, 1.55,\n",
       "       0.15, 0.9 , 4.15, 2.45, 0.25, 3.25, 4.95, 0.75, 2.2 , 1.25, 0.8 ,\n",
       "       0.4 , 0.55, 2.65, 0.65, 1.15, 1.35, 2.95, 3.35, 1.7 , 1.4 , 1.4 ,\n",
       "       1.6 , 1.9 , 1.95, 1.95, 3.9 , 3.55, 3.35, 0.8 , 0.35, 0.8 ])"
      ]
     },
     "execution_count": 10,
     "metadata": {},
     "output_type": "execute_result"
    }
   ],
   "source": [
    "y"
   ]
  },
  {
   "cell_type": "code",
   "execution_count": 11,
   "metadata": {},
   "outputs": [],
   "source": [
    "X = df.drop(['Cost','Serving Size','NewCost'],axis=1)\n",
    "\n"
   ]
  },
  {
   "cell_type": "code",
   "execution_count": 12,
   "metadata": {},
   "outputs": [
    {
     "data": {
      "text/plain": [
       "65"
      ]
     },
     "execution_count": 12,
     "metadata": {},
     "output_type": "execute_result"
    }
   ],
   "source": [
    "X.head(20)\n",
    "X.shape[0]"
   ]
  },
  {
   "cell_type": "code",
   "execution_count": 13,
   "metadata": {},
   "outputs": [],
   "source": [
    "clf = MLPRegressor(solver='lbfgs', alpha=1e-5,hidden_layer_sizes=(5, 2), random_state=1)\n",
    "clfit= clf.fit(X, y)"
   ]
  },
  {
   "cell_type": "markdown",
   "metadata": {},
   "source": [
    "After training our ANN it can predict prices of new products. For example.\n",
    "For example, what is a price of the following drink:\n",
    "    [80.0,0.0,0.5,151.4,15.1,0.6,3.0,0.0,0.0,21.0,1.0]"
   ]
  },
  {
   "cell_type": "code",
   "execution_count": 14,
   "metadata": {},
   "outputs": [
    {
     "name": "stderr",
     "output_type": "stream",
     "text": [
      "C:\\Users\\dmitr\\anaconda3\\lib\\site-packages\\sklearn\\base.py:420: UserWarning: X does not have valid feature names, but MLPRegressor was fitted with feature names\n",
      "  warnings.warn(\n"
     ]
    }
   ],
   "source": [
    "new_drink =np.array([80.0,0.0,0.5,151.4,15.1,0.6,3.0,0.0,0.0,21.0,1.0])\n",
    "res = clfit.predict(new_drink.reshape(1, -1))"
   ]
  },
  {
   "cell_type": "code",
   "execution_count": 15,
   "metadata": {},
   "outputs": [
    {
     "data": {
      "text/plain": [
       "array([1.62307687])"
      ]
     },
     "execution_count": 15,
     "metadata": {},
     "output_type": "execute_result"
    }
   ],
   "source": [
    "res"
   ]
  },
  {
   "cell_type": "code",
   "execution_count": null,
   "metadata": {},
   "outputs": [],
   "source": []
  },
  {
   "cell_type": "raw",
   "metadata": {},
   "source": [
    "In the exercise above we used predefined ANN from scikit-learn . In the next exercice we build ANN from scratch. "
   ]
  },
  {
   "cell_type": "markdown",
   "metadata": {},
   "source": [
    "# ANN from scratch"
   ]
  },
  {
   "cell_type": "markdown",
   "metadata": {},
   "source": [
    "Neural network which consists of one neuron, input and output, and identity activation function:"
   ]
  },
  {
   "cell_type": "code",
   "execution_count": null,
   "metadata": {},
   "outputs": [],
   "source": []
  },
  {
   "attachments": {
    "perceptron.png": {
     "image/png": "[encoded data removed]"
    }
   },
   "cell_type": "markdown",
   "metadata": {},
   "source": [
    "\n",
    "![perceptron.png](attachment:perceptron.png)"
   ]
  },
  {
   "cell_type": "markdown",
   "metadata": {},
   "source": [
    "It may be represented as function as $\\sum_{i=1}^m{w_{i} x_i}=y$\n",
    "\n",
    "where x is input signal, w is weight of the signal x, and y is the output signal\n",
    "\n",
    "\n",
    "A one - neuron ANN with activation  $\\phi$ is $\\phi{(\\sum_{i=1}^m{w_{i} x_i})}=y$"
   ]
  },
  {
   "cell_type": "markdown",
   "metadata": {},
   "source": [
    "Two - layer ANN with identity activation:"
   ]
  },
  {
   "attachments": {
    "ann1.png": {
     "image/png": "[encoded data removed]"
    }
   },
   "cell_type": "markdown",
   "metadata": {},
   "source": [
    "![ann1.png](attachment:ann1.png)"
   ]
  },
  {
   "cell_type": "markdown",
   "metadata": {},
   "source": [
    "The above ANN may be represented as function: $\\sum_{j=1}^k{\\sum_{i=1}^m{w_{ij}^{1}w_{j1}^{2}  x_i}}=y$\n",
    "\n",
    "with activation $\\phi$ it becomes: $\\phi{(\\sum_{j=1}^k w_{j1}^{2} {\\phi{(\\sum_{i=1}^m{w_{ij}^{1}  x_i}}}))}=y$\n",
    "\n",
    "In the above notations: m is number of features, n is number of neurons in hidden layer, W is matrix of weights of input signals\n",
    "\n",
    "We take sum of squares as objective when fitting our ANN model to given data:\n",
    "\n",
    "$$f=\\sum_{i=1}^n{(y_{i} - y( x^i))^2}$$\n",
    "\n",
    "where $(x^i,y_{i})$ is i-th observation from  a given sample of n observations, $x^i ={(x_1^i,x_2^i,..,x_m^i)}$\n"
   ]
  },
  {
   "cell_type": "markdown",
   "metadata": {},
   "source": [
    "# Python code "
   ]
  },
  {
   "cell_type": "markdown",
   "metadata": {},
   "source": [
    "Define two functions: a function that represents ANN and and a function that represents fitting criterion $f$                                                                            "
   ]
  },
  {
   "cell_type": "code",
   "execution_count": 16,
   "metadata": {},
   "outputs": [],
   "source": [
    "def perceptron(w,xx):\n",
    "    s = 0\n",
    "    m = xx.shape[0]\n",
    "    nn = w.shape[0]\n",
    "    k = int(nn/(2*m))\n",
    "    for j in range(k):\n",
    "        for i in range(m):\n",
    "            s += xx.iloc[i]*w[i*(j+1)]*w[nn-j-1]\n",
    "    return s\n",
    "#sum of suares objective f\n",
    "def sumsquares(w,f,x,y):\n",
    "    \"\"\"\n",
    "    f - function to fit\n",
    "    X, y - observations\n",
    "    \"\"\"\n",
    "    s=0\n",
    "    n = x.shape[0]\n",
    "    for i in range(n):\n",
    "        #s += 1+y[i]+x[i]\n",
    "        s += abs(y[i]-f(w,x.iloc[i]))\n",
    "    return np.sqrt(s)  "
   ]
  },
  {
   "cell_type": "raw",
   "metadata": {},
   "source": [
    "Minimizing objective using scipy.optimize.fmin built-in function (Nelder and Mead algorithm)"
   ]
  },
  {
   "cell_type": "code",
   "execution_count": 17,
   "metadata": {
    "scrolled": true
   },
   "outputs": [
    {
     "name": "stdout",
     "output_type": "stream",
     "text": [
      "101.34236632498427\n",
      "153.68518147952986\n"
     ]
    }
   ],
   "source": [
    "#optimize sumsquares using Nelder and Mead algorithm from scipy.optimize\n",
    "from scipy.optimize import fmin\n",
    "n = X.shape[0]\n",
    "m = X.shape[1]\n",
    "\n",
    "#k - number of neurons in the hidden layer. \n",
    "k = 2\n",
    "#w - weights of ANN\n",
    "w0 =np.random.rand(m*k*2)\n",
    "print(perceptron(w0,X.iloc[0]))\n",
    "print(sumsquares(w0,perceptron,X,y))\n",
    "#res = fmin(sumsquares,w0,args=(perceptron,X,y,))\n"
   ]
  },
  {
   "cell_type": "markdown",
   "metadata": {},
   "source": [
    "# Optimization problem from scratch"
   ]
  },
  {
   "cell_type": "markdown",
   "metadata": {},
   "source": [
    "Next we consider algorithms for optimizing $f$, and use building blocks from minpy to implement them. \n",
    "We start with method of sliding tolerance "
   ]
  },
  {
   "cell_type": "markdown",
   "metadata": {},
   "source": [
    "# Method of sliding tolerance"
   ]
  },
  {
   "cell_type": "markdown",
   "metadata": {},
   "source": [
    "\n",
    "This method is an improvement of Nelder and Mead algorithm.\n",
    "\n",
    "Among its advantages are fewer function evaluations\n",
    "\n",
    "more information on this algorithm can be found here:\n",
    "\n",
    "https://studfile.net/preview/2140346/page:34/\n",
    "also look at diploma of Ozhigin K.V, 2019, SPetersburg University\n",
    "\n",
    "\n",
    "We introduce the terminology and steps of the algorithm:\n"
   ]
  },
  {
   "cell_type": "markdown",
   "metadata": {},
   "source": [
    "1. Generate the sequence of points using Nelder and Mead strategy"
   ]
  },
  {
   "cell_type": "code",
   "execution_count": null,
   "metadata": {},
   "outputs": [],
   "source": []
  }
 ],
 "metadata": {
  "kernelspec": {
   "display_name": "Python 3 (ipykernel)",
   "language": "python",
   "name": "python3"
  },
  "language_info": {
   "codemirror_mode": {
    "name": "ipython",
    "version": 3
   },
   "file_extension": ".py",
   "mimetype": "text/x-python",
   "name": "python",
   "nbconvert_exporter": "python",
   "pygments_lexer": "ipython3",
   "version": "3.10.9"
  }
 },
 "nbformat": 4,
 "nbformat_minor": 2
}
