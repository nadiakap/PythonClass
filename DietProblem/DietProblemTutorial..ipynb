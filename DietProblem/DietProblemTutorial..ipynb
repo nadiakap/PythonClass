{
 "cells": [
  {
   "cell_type": "markdown",
   "metadata": {},
   "source": [
    "# The Diet Problem"
   ]
  },
  {
   "cell_type": "markdown",
   "metadata": {},
   "source": [
    "The goal of the diet problem is to find the cheapest combination of foods that will satisfy all the daily nutritional requirements of a person.\n",
    "The diet problem is one of the first optimization problems to be studied back in the 1930's and 40's. It was first motivated by the Army desire to meet the nutritional requirements of the soldier while minimizing the cost. \n"
   ]
  },
  {
   "cell_type": "markdown",
   "metadata": {},
   "source": [
    "# Mathematical Model"
   ]
  },
  {
   "cell_type": "markdown",
   "metadata": {},
   "source": [
    "\n",
    "The problem is formulated as a linear program where the objective is to minimize cost and meet constraints which require that nutritional needs be satisfied. They include constraints that regulate the number of calories and amounts of vitamins, minerals, fats, sodium and cholesterol in the diet.  \n",
    "\n",
    "Let us introduce the following notations:\n",
    "\n",
    "m-number of nutrients, \n",
    "n-number of foods\n",
    "C - vector of food unit cost\n",
    "$$c=(c_1,..c_n)$$\n",
    "matrix A - amount of nutrient j in food i\n",
    "$$A=(a_{ij})$$ \n",
    "b-vector of daily nutritional requirements\n",
    "$$b=(b_1,..b_m)$$\n",
    "X- decision vector ( numbers of servings of each food in daily diet)\n",
    "$$X=(x_1,..x_n)$$ \n",
    "\n",
    "Then $\\sum_{i=1}^n{c_i x_i}$ is a cost of daily diet\n",
    "\n",
    "$\\sum_{i=1}^n{a_{ij} x_i}$ is the amount of nutrient j in daily diet\n",
    "\n",
    "the optimization problem is formulated as follows:\n",
    "\n",
    "objective - minimize cost of daily diet:\n",
    "$$\\min_x(\\sum_{i=1}^n{c_i x_i})$$\n",
    "\n",
    "constraints: amounts of nutrients in daily diet should satisfy daily nutritional requirements:\n",
    "$$\\sum_{i=1}^n{a_{ij} x_i}>=b_j, j=1,m$$\n",
    "bounds on decision variables: number of servinds of each food should not be negative\n",
    "$$x_i>=0, i=1,n$$\n",
    "\n",
    "\n",
    "\n"
   ]
  },
  {
   "cell_type": "markdown",
   "metadata": {},
   "source": [
    "# Python solver"
   ]
  },
  {
   "cell_type": "markdown",
   "metadata": {},
   "source": [
    "The above optimization problem ( linear programming problem) can be solved with Python linprog solver from Scipy module (scipy.optimize.linprog). This is a description of linprog functionality:\n",
    "\n",
    "Linear programming: minimize a linear objective function subject to linear equality and inequality constraints.\n",
    "\n",
    "scipy.optimize.linprog(c, A_ub=None, b_ub=None, A_eq=None, b_eq=None, bounds=None, method='highs', callback=None, options=None, x0=None, integrality=None\n",
    "\n",
    "this is a link to full description in scipy documentatation:\n",
    "https://docs.scipy.org/doc/scipy/reference/generated/scipy.optimize.linprog.html\n",
    "\n",
    "We will create a python script that loads input data from Excel spreadsheet, transforms it to a form suitable for scipy.optimize.linprog solver, runs scipy.optimize.linprog solver and prints solver output\n",
    "\n"
   ]
  },
  {
   "cell_type": "markdown",
   "metadata": {},
   "source": [
    "We use pandas read_excel function to read input data"
   ]
  },
  {
   "cell_type": "code",
   "execution_count": 2,
   "metadata": {},
   "outputs": [],
   "source": [
    "import pandas as pd"
   ]
  },
  {
   "cell_type": "markdown",
   "metadata": {},
   "source": [
    "we use numpy to perform vector and matrix operations "
   ]
  },
  {
   "cell_type": "code",
   "execution_count": 3,
   "metadata": {},
   "outputs": [],
   "source": [
    "import numpy as np"
   ]
  },
  {
   "cell_type": "markdown",
   "metadata": {},
   "source": [
    "we use scipy.optimize.linpprog solver to solve linear programming problem"
   ]
  },
  {
   "cell_type": "code",
   "execution_count": 4,
   "metadata": {},
   "outputs": [],
   "source": [
    "import scipy.optimize as spo"
   ]
  },
  {
   "cell_type": "markdown",
   "metadata": {},
   "source": [
    "this is a spreadsheet with input data"
   ]
  },
  {
   "cell_type": "code",
   "execution_count": 5,
   "metadata": {},
   "outputs": [],
   "source": [
    "data_file = 'DietDataFormatted.xlsx'"
   ]
  },
  {
   "cell_type": "markdown",
   "metadata": {},
   "source": [
    "From this input data we need to prepare matrices and vectors (A,b,c) for linprog input.\n",
    "\n",
    "First, read nutritional info for each food that we want to be in our daily diet."
   ]
  },
  {
   "cell_type": "code",
   "execution_count": 10,
   "metadata": {},
   "outputs": [],
   "source": [
    "df_A = pd.read_excel(data_file,sheet_name='NutritionalInfo',header = 0,index_col = 0)"
   ]
  },
  {
   "cell_type": "code",
   "execution_count": 11,
   "metadata": {},
   "outputs": [
    {
     "data": {
      "text/html": [
       "<div>\n",
       "<style scoped>\n",
       "    .dataframe tbody tr th:only-of-type {\n",
       "        vertical-align: middle;\n",
       "    }\n",
       "\n",
       "    .dataframe tbody tr th {\n",
       "        vertical-align: top;\n",
       "    }\n",
       "\n",
       "    .dataframe thead th {\n",
       "        text-align: right;\n",
       "    }\n",
       "</style>\n",
       "<table border=\"1\" class=\"dataframe\">\n",
       "  <thead>\n",
       "    <tr style=\"text-align: right;\">\n",
       "      <th></th>\n",
       "      <th>fat</th>\n",
       "      <th>vitA</th>\n",
       "      <th>vitC</th>\n",
       "      <th>protein</th>\n",
       "      <th>calories</th>\n",
       "    </tr>\n",
       "  </thead>\n",
       "  <tbody>\n",
       "    <tr>\n",
       "      <th>broccoli</th>\n",
       "      <td>0.8</td>\n",
       "      <td>70.0</td>\n",
       "      <td>160.2</td>\n",
       "      <td>8.0</td>\n",
       "      <td>74.0</td>\n",
       "    </tr>\n",
       "    <tr>\n",
       "      <th>apple</th>\n",
       "      <td>0.5</td>\n",
       "      <td>73.1</td>\n",
       "      <td>7.9</td>\n",
       "      <td>0.3</td>\n",
       "      <td>81.4</td>\n",
       "    </tr>\n",
       "    <tr>\n",
       "      <th>oatm.cookie</th>\n",
       "      <td>3.3</td>\n",
       "      <td>2.9</td>\n",
       "      <td>0.1</td>\n",
       "      <td>1.1</td>\n",
       "      <td>81.0</td>\n",
       "    </tr>\n",
       "    <tr>\n",
       "      <th>milk</th>\n",
       "      <td>4.7</td>\n",
       "      <td>100.0</td>\n",
       "      <td>2.3</td>\n",
       "      <td>8.1</td>\n",
       "      <td>121.2</td>\n",
       "    </tr>\n",
       "    <tr>\n",
       "      <th>chcken</th>\n",
       "      <td>10.8</td>\n",
       "      <td>77.4</td>\n",
       "      <td>2.0</td>\n",
       "      <td>42.2</td>\n",
       "      <td>227.2</td>\n",
       "    </tr>\n",
       "    <tr>\n",
       "      <th>omelette</th>\n",
       "      <td>7.3</td>\n",
       "      <td>409.2</td>\n",
       "      <td>0.1</td>\n",
       "      <td>6.7</td>\n",
       "      <td>99.6</td>\n",
       "    </tr>\n",
       "  </tbody>\n",
       "</table>\n",
       "</div>"
      ],
      "text/plain": [
       "              fat   vitA   vitC  protein  calories\n",
       "broccoli      0.8   70.0  160.2      8.0      74.0\n",
       "apple         0.5   73.1    7.9      0.3      81.4\n",
       "oatm.cookie   3.3    2.9    0.1      1.1      81.0\n",
       "milk          4.7  100.0    2.3      8.1     121.2\n",
       "chcken       10.8   77.4    2.0     42.2     227.2\n",
       "omelette      7.3  409.2    0.1      6.7      99.6"
      ]
     },
     "execution_count": 11,
     "metadata": {},
     "output_type": "execute_result"
    }
   ],
   "source": [
    "df_A"
   ]
  },
  {
   "cell_type": "markdown",
   "metadata": {},
   "source": [
    "convert this DataFrame into numpy array A "
   ]
  },
  {
   "cell_type": "code",
   "execution_count": 12,
   "metadata": {},
   "outputs": [],
   "source": [
    "A = np.transpose(df_A.to_numpy())"
   ]
  },
  {
   "cell_type": "code",
   "execution_count": 13,
   "metadata": {},
   "outputs": [
    {
     "data": {
      "text/plain": [
       "array([[8.000e-01, 5.000e-01, 3.300e+00, 4.700e+00, 1.080e+01, 7.300e+00],\n",
       "       [7.000e+01, 7.310e+01, 2.900e+00, 1.000e+02, 7.740e+01, 4.092e+02],\n",
       "       [1.602e+02, 7.900e+00, 1.000e-01, 2.300e+00, 2.000e+00, 1.000e-01],\n",
       "       [8.000e+00, 3.000e-01, 1.100e+00, 8.100e+00, 4.220e+01, 6.700e+00],\n",
       "       [7.400e+01, 8.140e+01, 8.100e+01, 1.212e+02, 2.272e+02, 9.960e+01]])"
      ]
     },
     "execution_count": 13,
     "metadata": {},
     "output_type": "execute_result"
    }
   ],
   "source": [
    "A"
   ]
  },
  {
   "cell_type": "markdown",
   "metadata": {},
   "source": [
    "read daily requirements info for each nutrient"
   ]
  },
  {
   "cell_type": "code",
   "execution_count": 14,
   "metadata": {},
   "outputs": [],
   "source": [
    "df_b = pd.read_excel(data_file,sheet_name='Requirements',header = 0,index_col = 0)"
   ]
  },
  {
   "cell_type": "code",
   "execution_count": 15,
   "metadata": {},
   "outputs": [
    {
     "data": {
      "text/html": [
       "<div>\n",
       "<style scoped>\n",
       "    .dataframe tbody tr th:only-of-type {\n",
       "        vertical-align: middle;\n",
       "    }\n",
       "\n",
       "    .dataframe tbody tr th {\n",
       "        vertical-align: top;\n",
       "    }\n",
       "\n",
       "    .dataframe thead th {\n",
       "        text-align: right;\n",
       "    }\n",
       "</style>\n",
       "<table border=\"1\" class=\"dataframe\">\n",
       "  <thead>\n",
       "    <tr style=\"text-align: right;\">\n",
       "      <th></th>\n",
       "      <th>fat</th>\n",
       "      <th>vitA</th>\n",
       "      <th>vitC</th>\n",
       "      <th>protein</th>\n",
       "      <th>calories</th>\n",
       "    </tr>\n",
       "  </thead>\n",
       "  <tbody>\n",
       "    <tr>\n",
       "      <th>lower bounds</th>\n",
       "      <td>20</td>\n",
       "      <td>50</td>\n",
       "      <td>50</td>\n",
       "      <td>50</td>\n",
       "      <td>1000</td>\n",
       "    </tr>\n",
       "    <tr>\n",
       "      <th>upper bounds</th>\n",
       "      <td>65</td>\n",
       "      <td>600</td>\n",
       "      <td>300</td>\n",
       "      <td>110</td>\n",
       "      <td>2000</td>\n",
       "    </tr>\n",
       "  </tbody>\n",
       "</table>\n",
       "</div>"
      ],
      "text/plain": [
       "              fat  vitA  vitC  protein  calories\n",
       "lower bounds   20    50    50       50      1000\n",
       "upper bounds   65   600   300      110      2000"
      ]
     },
     "execution_count": 15,
     "metadata": {},
     "output_type": "execute_result"
    }
   ],
   "source": [
    "df_b"
   ]
  },
  {
   "cell_type": "markdown",
   "metadata": {},
   "source": [
    "from this data create two numy array, b and b_lower"
   ]
  },
  {
   "cell_type": "code",
   "execution_count": 16,
   "metadata": {},
   "outputs": [],
   "source": [
    "b = df_b.to_numpy()[1]\n",
    "b_lower = -df_b.to_numpy()[0]"
   ]
  },
  {
   "cell_type": "code",
   "execution_count": 17,
   "metadata": {},
   "outputs": [
    {
     "data": {
      "text/plain": [
       "array([  65,  600,  300,  110, 2000], dtype=int64)"
      ]
     },
     "execution_count": 17,
     "metadata": {},
     "output_type": "execute_result"
    }
   ],
   "source": [
    "b"
   ]
  },
  {
   "cell_type": "code",
   "execution_count": 18,
   "metadata": {},
   "outputs": [
    {
     "data": {
      "text/plain": [
       "array([  -20,   -50,   -50,   -50, -1000], dtype=int64)"
      ]
     },
     "execution_count": 18,
     "metadata": {},
     "output_type": "execute_result"
    }
   ],
   "source": [
    "b_lower"
   ]
  },
  {
   "cell_type": "markdown",
   "metadata": {},
   "source": [
    "read food unit costs"
   ]
  },
  {
   "cell_type": "code",
   "execution_count": 19,
   "metadata": {},
   "outputs": [],
   "source": [
    "df_c = pd.read_excel(data_file,sheet_name='UnitCosts',header = None,index_col = 0)"
   ]
  },
  {
   "cell_type": "code",
   "execution_count": 20,
   "metadata": {},
   "outputs": [
    {
     "data": {
      "text/html": [
       "<div>\n",
       "<style scoped>\n",
       "    .dataframe tbody tr th:only-of-type {\n",
       "        vertical-align: middle;\n",
       "    }\n",
       "\n",
       "    .dataframe tbody tr th {\n",
       "        vertical-align: top;\n",
       "    }\n",
       "\n",
       "    .dataframe thead th {\n",
       "        text-align: right;\n",
       "    }\n",
       "</style>\n",
       "<table border=\"1\" class=\"dataframe\">\n",
       "  <thead>\n",
       "    <tr style=\"text-align: right;\">\n",
       "      <th></th>\n",
       "      <th>1</th>\n",
       "    </tr>\n",
       "    <tr>\n",
       "      <th>0</th>\n",
       "      <th></th>\n",
       "    </tr>\n",
       "  </thead>\n",
       "  <tbody>\n",
       "    <tr>\n",
       "      <th>broccoli</th>\n",
       "      <td>0.16</td>\n",
       "    </tr>\n",
       "    <tr>\n",
       "      <th>apple</th>\n",
       "      <td>0.24</td>\n",
       "    </tr>\n",
       "    <tr>\n",
       "      <th>oatm.cookie</th>\n",
       "      <td>0.09</td>\n",
       "    </tr>\n",
       "    <tr>\n",
       "      <th>milk</th>\n",
       "      <td>0.23</td>\n",
       "    </tr>\n",
       "    <tr>\n",
       "      <th>chcken</th>\n",
       "      <td>0.84</td>\n",
       "    </tr>\n",
       "    <tr>\n",
       "      <th>omelette</th>\n",
       "      <td>0.11</td>\n",
       "    </tr>\n",
       "  </tbody>\n",
       "</table>\n",
       "</div>"
      ],
      "text/plain": [
       "                1\n",
       "0                \n",
       "broccoli     0.16\n",
       "apple        0.24\n",
       "oatm.cookie  0.09\n",
       "milk         0.23\n",
       "chcken       0.84\n",
       "omelette     0.11"
      ]
     },
     "execution_count": 20,
     "metadata": {},
     "output_type": "execute_result"
    }
   ],
   "source": [
    "df_c"
   ]
  },
  {
   "cell_type": "markdown",
   "metadata": {},
   "source": [
    "create numpy array from unit costs data"
   ]
  },
  {
   "cell_type": "code",
   "execution_count": 21,
   "metadata": {},
   "outputs": [],
   "source": [
    "c = df_c.to_numpy().flatten()"
   ]
  },
  {
   "cell_type": "code",
   "execution_count": 22,
   "metadata": {},
   "outputs": [
    {
     "data": {
      "text/plain": [
       "array([0.16, 0.24, 0.09, 0.23, 0.84, 0.11])"
      ]
     },
     "execution_count": 22,
     "metadata": {},
     "output_type": "execute_result"
    }
   ],
   "source": [
    "c"
   ]
  },
  {
   "cell_type": "raw",
   "metadata": {},
   "source": [
    "We perform several operations on matrices A, b and c. Since linprog accepts ''less than'  inequality constraints, we have to transform our 'greater than' constrants into 'less than constrants. This is accomplished by multiplying both sides of inequality constraint by -1.  "
   ]
  },
  {
   "cell_type": "code",
   "execution_count": 24,
   "metadata": {},
   "outputs": [],
   "source": [
    "A_lower = -A\n",
    "A_ub = np.vstack([A,A_lower])\n",
    "b_ub = np.vstack([b,b_lower])"
   ]
  },
  {
   "cell_type": "markdown",
   "metadata": {},
   "source": [
    "create bounds for desition variables"
   ]
  },
  {
   "cell_type": "code",
   "execution_count": 25,
   "metadata": {},
   "outputs": [],
   "source": [
    "bounds = (0, 4)\n",
    "bounds1 = (0, 3)\n",
    "bounds2 = (0, 7)\n",
    "bounds = (bounds,bounds,bounds,bounds1,bounds,bounds2)"
   ]
  },
  {
   "cell_type": "code",
   "execution_count": 26,
   "metadata": {},
   "outputs": [
    {
     "data": {
      "text/plain": [
       "((0, 4), (0, 4), (0, 4), (0, 3), (0, 4), (0, 7))"
      ]
     },
     "execution_count": 26,
     "metadata": {},
     "output_type": "execute_result"
    }
   ],
   "source": [
    "bounds"
   ]
  },
  {
   "cell_type": "markdown",
   "metadata": {},
   "source": [
    "nput matrices and vectors A,b,c are ready, we can run linprog solver"
   ]
  },
  {
   "cell_type": "code",
   "execution_count": 28,
   "metadata": {},
   "outputs": [],
   "source": [
    "res=spo.linprog(c,A_ub=A_ub,b_ub=b_ub,bounds=bounds)"
   ]
  },
  {
   "cell_type": "markdown",
   "metadata": {},
   "source": [
    "the result of optimization is a complex object that contains information about optimal vaue of objective function (daily diet cost), values of decision variables (optimal number of portions for each food), and the optimzation process info"
   ]
  },
  {
   "cell_type": "code",
   "execution_count": 29,
   "metadata": {},
   "outputs": [
    {
     "data": {
      "text/plain": [
       "     fun: 1.8837741420058\n",
       " message: 'Optimization terminated successfully.'\n",
       "     nit: 11\n",
       "   slack: array([  33.30997776,    0.        ,    0.        ,   60.        ,\n",
       "       1000.        ,    2.26124526,  550.        ,  250.        ,\n",
       "          0.        ,    3.84774898,    6.93442043,    2.24804677,\n",
       "          0.        ,    0.        ,    0.        ,    0.        ])\n",
       "  status: 0\n",
       " success: True\n",
       "       x: array([1.73875474, 1.75195323, 4.        , 3.        , 0.15225102,\n",
       "       0.06557957])"
      ]
     },
     "execution_count": 29,
     "metadata": {},
     "output_type": "execute_result"
    }
   ],
   "source": [
    "res"
   ]
  },
  {
   "cell_type": "markdown",
   "metadata": {},
   "source": [
    "from the result object we print daily meal overview as follows"
   ]
  },
  {
   "cell_type": "code",
   "execution_count": 30,
   "metadata": {},
   "outputs": [
    {
     "name": "stdout",
     "output_type": "stream",
     "text": [
      "**********************************************************\n",
      "cost of daily meal, optimized: 1.8837741420058\n",
      "**********************************************************\n",
      "here is the meal plan ( number of servings of each food):\n",
      "broccoli : 1.7387547409077408\n",
      "apple : 1.7519532292895434\n",
      "oatm.cookie : 4.0\n",
      "milk : 3.0\n",
      "chcken : 0.1522510193240766\n",
      "omelette : 0.06557956544405913\n",
      "**********************************************************\n",
      "you are getting these nutrients:\n",
      "fat : 31.69002224381262\n",
      "vitA : 600.0\n",
      "vitC : 299.99999999999994\n",
      "protein : 50.000000000000014\n",
      "calories : 1000.0000000000001\n"
     ]
    }
   ],
   "source": [
    "print ('**********************************************************')   \n",
    "print ('cost of daily meal, optimized:', res.fun)\n",
    "print ('**********************************************************')   \n",
    "print ('here is the meal plan ( number of servings of each food):')\n",
    "for i in range(len(df_A.index)):\n",
    "    print (df_A.index[i], ':', res.x[i])\n",
    "\n",
    "print ('**********************************************************')    \n",
    "print ('you are getting these nutrients:')    \n",
    "for j in range(len(df_A.columns)):\n",
    "    nutrient_j = 0.0\n",
    "    for i in range(len(df_A.index)):\n",
    "        nutrient_j += A[j,i]*res.x[i]\n",
    "    print (df_A.columns[j] , ':', nutrient_j)    "
   ]
  },
  {
   "cell_type": "code",
   "execution_count": null,
   "metadata": {},
   "outputs": [],
   "source": []
  }
 ],
 "metadata": {
  "kernelspec": {
   "display_name": "Python 3",
   "language": "python",
   "name": "python3"
  },
  "language_info": {
   "codemirror_mode": {
    "name": "ipython",
    "version": 3
   },
   "file_extension": ".py",
   "mimetype": "text/x-python",
   "name": "python",
   "nbconvert_exporter": "python",
   "pygments_lexer": "ipython3",
   "version": "3.6.5"
  }
 },
 "nbformat": 4,
 "nbformat_minor": 2
}
