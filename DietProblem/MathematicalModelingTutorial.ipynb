{
 "cells": [
  {
   "cell_type": "markdown",
   "metadata": {},
   "source": [
    "# Problem 1"
   ]
  },
  {
   "cell_type": "markdown",
   "metadata": {},
   "source": [
    "We need to buy 5 pounds of strawberries. One pound of strawberries costs $3.50. How much money do we need for the whole purchase?\n"
   ]
  },
  {
   "cell_type": "markdown",
   "metadata": {},
   "source": [
    "# Problem 2 "
   ]
  },
  {
   "cell_type": "markdown",
   "metadata": {},
   "source": [
    "We have 6 dollars. How much strawberries can we buy if one pound costs $3.50?"
   ]
  },
  {
   "cell_type": "markdown",
   "metadata": {},
   "source": [
    "# Problem 3"
   ]
  },
  {
   "cell_type": "markdown",
   "metadata": {},
   "source": [
    "What is the connection between problems 1 and 2? Write equation that connects all quantities from problems 1 and 2."
   ]
  },
  {
   "cell_type": "markdown",
   "metadata": {},
   "source": [
    "# Problem 4"
   ]
  },
  {
   "cell_type": "markdown",
   "metadata": {},
   "source": [
    "We need to buy 2 pounds of strawberries and 5 pounds of cranberries. One pound of strawberries costs 3.50 dollars, one pound of cranberries costs 2.50 dollars How much money do we need for the whole purchase?"
   ]
  },
  {
   "cell_type": "markdown",
   "metadata": {},
   "source": [
    "# Problem 5"
   ]
  },
  {
   "cell_type": "markdown",
   "metadata": {},
   "source": [
    "We have 6 dollars. How much strawberries and how much cranberries can we buy if one pound of strawberries costs 3.50 dollars and one pound of cranberries costs 2.50 dollars?\n",
    "\n",
    "How many solutions does this problem have?\n",
    "\n",
    "Solve this problem graphically.\n",
    "\n",
    "Do we have to spend all money? \n"
   ]
  },
  {
   "cell_type": "markdown",
   "metadata": {},
   "source": [
    "# Solution to Problem 5"
   ]
  },
  {
   "cell_type": "markdown",
   "metadata": {},
   "source": [
    "Let us introduce the following notations"
   ]
  },
  {
   "cell_type": "markdown",
   "metadata": {},
   "source": [
    "x - amount of Strawberries\n",
    "\n",
    "y - amount of Cranberries\n",
    "\n",
    "Equation that connects x and y:  3.5x + 2.5y = 6\n",
    "\n",
    "obtain expression for y by subtracting 3.5x and dividing  by 2.5 for both sides of the equation\n",
    "$$y = -{\\frac{3.5}{2.5}x}+\\frac{6}{2.5}$$\n"
   ]
  },
  {
   "cell_type": "code",
   "execution_count": 26,
   "metadata": {},
   "outputs": [
    {
     "data": {
      "text/plain": [
       "[<matplotlib.lines.Line2D at 0x23766989668>]"
      ]
     },
     "execution_count": 26,
     "metadata": {},
     "output_type": "execute_result"
    },
    {
     "data": {
      "image/png": "[encoded data removed]",
      "text/plain": [
       "<Figure size 432x288 with 1 Axes>"
      ]
     },
     "metadata": {},
     "output_type": "display_data"
    }
   ],
   "source": [
    "import matplotlib.pyplot as plt\n",
    "import numpy as np\n",
    "fig, ax = plt.subplots()\n",
    "ax.set_aspect('equal')\n",
    "\n",
    "def func_line(x, m, b):\n",
    "    return m * x  + b\n",
    " \n",
    "\n",
    "x = np.linspace(0, 2, 100)  \n",
    "y = func_line(x, -3.5/2.5, 6.0/2.5)\n",
    "\n",
    "plt.title(\"Amounts of Strawberries and Cranberries to get for $6\")\n",
    "plt.xlabel(\"Strawberries (lb)\")\n",
    "plt.ylabel(\"Cranberries (lb)\")\n",
    "\n",
    "ax.plot(x, y)"
   ]
  },
  {
   "cell_type": "markdown",
   "metadata": {},
   "source": [
    "We do not have to spend all money. How is this represented in the mathematical model?\n",
    "Instead of equation we have to solve inequality\n",
    "3.5x + 2.5y <= 6. \n",
    "\n",
    "The solution is any point that lies below blue line"
   ]
  },
  {
   "cell_type": "code",
   "execution_count": 27,
   "metadata": {},
   "outputs": [
    {
     "data": {
      "text/plain": [
       "<matplotlib.collections.PolyCollection at 0x23766a150f0>"
      ]
     },
     "execution_count": 27,
     "metadata": {},
     "output_type": "execute_result"
    },
    {
     "data": {
      "image/png": "[encoded data removed]",
      "text/plain": [
       "<Figure size 432x288 with 1 Axes>"
      ]
     },
     "metadata": {},
     "output_type": "display_data"
    }
   ],
   "source": [
    "import matplotlib.pyplot as plt\n",
    "import numpy as np\n",
    "fig, ax = plt.subplots()\n",
    "ax.set_aspect('equal')\n",
    "\n",
    "def func_line(x, m, b):\n",
    "    return m * x  + b\n",
    " \n",
    "\n",
    "x = np.linspace(0, 2, 100)  \n",
    "y = func_line(x, -3.5/2.5, 6.0/2.5)\n",
    "\n",
    "plt.title(\"Amounts of Strawberries and Cranberries to get, not exceeding $6\")\n",
    "plt.xlabel(\"Strawberries (lb)\")\n",
    "plt.ylabel(\"Cranberries (lb)\")\n",
    "\n",
    "ax.plot(x, y)\n",
    "\n",
    "ax.fill_between(x, y, -0.5, color='blue')"
   ]
  },
  {
   "cell_type": "markdown",
   "metadata": {},
   "source": [
    "# Problem 6"
   ]
  },
  {
   "cell_type": "markdown",
   "metadata": {},
   "source": [
    "What is the connection between problems 4 and 5? Write equation that connects quantities from problems 4 and 5"
   ]
  },
  {
   "cell_type": "markdown",
   "metadata": {},
   "source": [
    "# Problem 7"
   ]
  },
  {
   "cell_type": "markdown",
   "metadata": {},
   "source": [
    "We need to buy strawberries and cranberries for a certain dessert recipe, and our budget is $10. The amount of strawberries in the dessert must be twice as much as the amount of cranberries. Prices for pound are 3.50 and 2.50 dollars respectively.\n",
    "\n",
    "Do we have enough information to find how much strawberries and cranberries to buy? \n",
    "\n",
    "Write equation that connects all quanitites in this problem.\n"
   ]
  },
  {
   "cell_type": "markdown",
   "metadata": {},
   "source": [
    "# Solution"
   ]
  },
  {
   "cell_type": "markdown",
   "metadata": {},
   "source": [
    "x - number of pounds of cranberries we should buy\n",
    "2*x - number of punds of strawberries we should buy\n",
    "\n",
    "Equation:\n",
    "3.50*x+2*x*2.50 = 10\n",
    "\n",
    "Let us use SymPy package to simplify the equation\n",
    "\n"
   ]
  },
  {
   "cell_type": "code",
   "execution_count": 12,
   "metadata": {},
   "outputs": [],
   "source": [
    "from sympy import symbols\n",
    "x = symbols('x')\n",
    "expr = 3.50*x + 2*x*2.50"
   ]
  },
  {
   "cell_type": "code",
   "execution_count": 13,
   "metadata": {},
   "outputs": [
    {
     "data": {
      "text/latex": [
       "$\\displaystyle 8.5 x$"
      ],
      "text/plain": [
       "8.5*x"
      ]
     },
     "execution_count": 13,
     "metadata": {},
     "output_type": "execute_result"
    }
   ],
   "source": [
    "expr\n"
   ]
  },
  {
   "cell_type": "markdown",
   "metadata": {},
   "source": [
    "Let us solve the equation 6x=10 using sympy"
   ]
  },
  {
   "cell_type": "code",
   "execution_count": 14,
   "metadata": {},
   "outputs": [
    {
     "data": {
      "text/plain": [
       "[1.17647058823529]"
      ]
     },
     "execution_count": 14,
     "metadata": {},
     "output_type": "execute_result"
    }
   ],
   "source": [
    "from sympy import Eq,solve\n",
    "solve(Eq(8.5*x,10),x)"
   ]
  },
  {
   "cell_type": "markdown",
   "metadata": {},
   "source": [
    "also, we could solve the equation in the inital form: 3.50*x + 2*x*2.50 = 10"
   ]
  },
  {
   "cell_type": "code",
   "execution_count": 15,
   "metadata": {},
   "outputs": [
    {
     "data": {
      "text/plain": [
       "[1.17647058823529]"
      ]
     },
     "execution_count": 15,
     "metadata": {},
     "output_type": "execute_result"
    }
   ],
   "source": [
    "solve(Eq(3.50*x + 2*x*2.50,10),x)"
   ]
  },
  {
   "cell_type": "markdown",
   "metadata": {},
   "source": [
    "# Problem 8"
   ]
  },
  {
   "cell_type": "markdown",
   "metadata": {},
   "source": [
    "given equation come up with real-word problem that may be \n",
    "represented by this equation: 2.25x + 3.41y + 2z = 100"
   ]
  },
  {
   "cell_type": "markdown",
   "metadata": {},
   "source": [
    "# Problem 9"
   ]
  },
  {
   "cell_type": "markdown",
   "metadata": {},
   "source": [
    "solve system of linear equations (use sympy)\n",
    "\n",
    "https://docs.sympy.org/dev/guides/solving/solve-system-of-equations-algebraically.html\n",
    "\n",
    "$$2x - 3y = -12$$\n",
    "$$5x +  y  = 6$$"
   ]
  },
  {
   "cell_type": "markdown",
   "metadata": {},
   "source": [
    "# Solution"
   ]
  },
  {
   "cell_type": "code",
   "execution_count": 19,
   "metadata": {},
   "outputs": [
    {
     "data": {
      "text/plain": [
       "[{x: 6/17, y: 72/17}]"
      ]
     },
     "execution_count": 19,
     "metadata": {},
     "output_type": "execute_result"
    }
   ],
   "source": [
    "from sympy.abc import x, y\n",
    "from sympy import solve\n",
    "solve([2*x - 3*y +12, 5*x+y-6], [x, y], dict=True)\n"
   ]
  },
  {
   "cell_type": "markdown",
   "metadata": {},
   "source": [
    "let's verify the solution"
   ]
  },
  {
   "cell_type": "code",
   "execution_count": null,
   "metadata": {},
   "outputs": [],
   "source": [
    "substitute it into the first equation"
   ]
  },
  {
   "cell_type": "code",
   "execution_count": 21,
   "metadata": {},
   "outputs": [
    {
     "data": {
      "text/plain": [
       "0.0"
      ]
     },
     "execution_count": 21,
     "metadata": {},
     "output_type": "execute_result"
    }
   ],
   "source": [
    "2*6/17-3*72/17+12"
   ]
  },
  {
   "cell_type": "markdown",
   "metadata": {},
   "source": [
    "substitute into second equation"
   ]
  },
  {
   "cell_type": "code",
   "execution_count": 22,
   "metadata": {},
   "outputs": [
    {
     "data": {
      "text/plain": [
       "0.0"
      ]
     },
     "execution_count": 22,
     "metadata": {},
     "output_type": "execute_result"
    }
   ],
   "source": [
    "5*6/17+72/17-6"
   ]
  },
  {
   "cell_type": "markdown",
   "metadata": {},
   "source": [
    "Now let us solve it manually:\n",
    "\n",
    "   step 1: write expression for y from the second equation y = 6-5x\n",
    "   \n",
    "   step 2: substitute expression for y into first equation:\n",
    "   \n",
    "        2x - 3*(6-5x) = -12\n",
    "        \n",
    "        obtain expression for x:\n",
    "        \n",
    "            2x - 18 + 15x = -12\n",
    "            \n",
    "            17x = 6\n",
    "            \n",
    "            x = 6/17\n",
    "            \n",
    "   step 3: substitute value of x into expression for y:\n",
    "   \n",
    "        y = 6-5*6/17\n",
    "            "
   ]
  }
 ],
 "metadata": {
  "kernelspec": {
   "display_name": "Python 3 (ipykernel)",
   "language": "python",
   "name": "python3"
  },
  "language_info": {
   "codemirror_mode": {
    "name": "ipython",
    "version": 3
   },
   "file_extension": ".py",
   "mimetype": "text/x-python",
   "name": "python",
   "nbconvert_exporter": "python",
   "pygments_lexer": "ipython3",
   "version": "3.10.9"
  }
 },
 "nbformat": 4,
 "nbformat_minor": 2
}
