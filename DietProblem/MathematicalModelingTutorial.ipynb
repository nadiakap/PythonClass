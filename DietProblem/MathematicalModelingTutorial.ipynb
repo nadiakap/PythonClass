{
 "cells": [
  {
   "cell_type": "markdown",
   "metadata": {},
   "source": [
    "# Problem 1"
   ]
  },
  {
   "cell_type": "markdown",
   "metadata": {},
   "source": [
    "We need to buy 5 pounds of strawberries. One pound of strawberries costs $3.50. How much money do we need for the whole purchase?\n"
   ]
  },
  {
   "cell_type": "markdown",
   "metadata": {},
   "source": [
    "# Problem 2 "
   ]
  },
  {
   "cell_type": "markdown",
   "metadata": {},
   "source": [
    "We have 6 dollars. How much strawberries can we buy if one pound costs $3.50?"
   ]
  },
  {
   "cell_type": "markdown",
   "metadata": {},
   "source": [
    "# Problem 3"
   ]
  },
  {
   "cell_type": "markdown",
   "metadata": {},
   "source": [
    "What is the connection between problems 1 and 2? Write equation that connects all quantities from problems 1 and 2."
   ]
  },
  {
   "cell_type": "markdown",
   "metadata": {},
   "source": [
    "# Problem 4"
   ]
  },
  {
   "cell_type": "markdown",
   "metadata": {},
   "source": [
    "We need to buy 2 pounds of strawberries and 5 pounds of cranberries. One pound of strawberries costs 3.50 dollars, one pound of cranberries costs 2.50 dollars How much money do we need for the whole purchase?"
   ]
  },
  {
   "cell_type": "markdown",
   "metadata": {},
   "source": [
    "# Problem 5"
   ]
  },
  {
   "cell_type": "markdown",
   "metadata": {},
   "source": [
    "We have 6 dollars. How much strawberries and how much cranberries can we buy if one pound of strawberries costs 3.50 dollars and one pound of cranberries costs 2.50 dollars?\n",
    "\n",
    "How many solutions does this problem have?\n",
    "\n",
    "Solve this problem graphically.\n",
    "\n",
    "Do we have to spend all money? \n"
   ]
  },
  {
   "cell_type": "markdown",
   "metadata": {},
   "source": [
    "# Solution to Problem 5"
   ]
  },
  {
   "cell_type": "markdown",
   "metadata": {},
   "source": [
    "Let us introduce the following notations"
   ]
  },
  {
   "cell_type": "markdown",
   "metadata": {},
   "source": [
    "x - amount of Strawberries\n",
    "\n",
    "y - amount of Cranberries\n",
    "\n",
    "Equation that connects x and y:  3.5x + 2.5y = 6\n",
    "\n",
    "obtain expression for y by subtracting 3.5x and dividing  by 2.5 for both sides of the equation\n",
    "$$y = -{\\frac{3.5}{2.5}x}+\\frac{6}{2.5}$$\n"
   ]
  },
  {
   "cell_type": "code",
   "execution_count": 15,
   "metadata": {},
   "outputs": [
    {
     "data": {
      "text/plain": [
       "[<matplotlib.lines.Line2D at 0x237634244a8>]"
      ]
     },
     "execution_count": 15,
     "metadata": {},
     "output_type": "execute_result"
    },
    {
     "data": {
      "image/png": "[encoded data removed]",
      "text/plain": [
       "<Figure size 432x288 with 1 Axes>"
      ]
     },
     "metadata": {},
     "output_type": "display_data"
    }
   ],
   "source": [
    "import matplotlib.pyplot as plt\n",
    "import numpy as np\n",
    "fig, ax = plt.subplots()\n",
    "ax.set_aspect('equal')\n",
    "\n",
    "def func_line(x, m, b):\n",
    "    return m * x  + b\n",
    " \n",
    "\n",
    "x = np.linspace(0, 2, 100)  \n",
    "y = func_line(x, -3.5/2.5, 6.0/2.5)\n",
    "\n",
    "plt.title(\"Amounts of Strawberries and Cranberries to get for $6\")\n",
    "plt.xlabel(\"Strawberries (lb)\")\n",
    "plt.ylabel(\"Cranberries (lb)\")\n",
    "\n",
    "ax.plot(x, y)\n"
   ]
  },
  {
   "cell_type": "markdown",
   "metadata": {},
   "source": [
    "We do not have to spend all money. How is this represented in the mathematical model?\n",
    "Instead of equation we have to solve inequality\n",
    "3.5x + 2.5y <= 6. \n",
    "\n",
    "The solution is any point that lies below blue line"
   ]
  },
  {
   "cell_type": "markdown",
   "metadata": {},
   "source": [
    "# Problem 6"
   ]
  },
  {
   "cell_type": "markdown",
   "metadata": {},
   "source": [
    "What is the connection between problems 4 and 5? Write equation that connects quantities from problems 4 and 5"
   ]
  },
  {
   "cell_type": "markdown",
   "metadata": {},
   "source": [
    "# Problem 7"
   ]
  },
  {
   "cell_type": "markdown",
   "metadata": {},
   "source": [
    "We need to buy strawberries and cranberries for a certain dessert recipe, and our budget is $10. The amount of strawberries in the dessert must be twice as much as the amount of cranberries. Prices for pound are 3.50 and 2.50 dollars respectively.\n",
    "\n",
    "Do we have enough information to find how much strawberries and cranberries to buy? \n",
    "\n",
    "Write equation that connects all quanitites in this problem."
   ]
  }
 ],
 "metadata": {
  "kernelspec": {
   "display_name": "Python 3",
   "language": "python",
   "name": "python3"
  },
  "language_info": {
   "codemirror_mode": {
    "name": "ipython",
    "version": 3
   },
   "file_extension": ".py",
   "mimetype": "text/x-python",
   "name": "python",
   "nbconvert_exporter": "python",
   "pygments_lexer": "ipython3",
   "version": "3.6.5"
  }
 },
 "nbformat": 4,
 "nbformat_minor": 2
}
