{
 "cells": [
  {
   "cell_type": "markdown",
   "metadata": {},
   "source": [
    "# The Diet Problem"
   ]
  },
  {
   "cell_type": "markdown",
   "metadata": {},
   "source": [
    "The goal of the diet problem is to find the cheapest combination of foods that will satisfy all the daily nutritional requirements of a person.\n",
    "The diet problem is one of the first optimization problems to be studied back in the 1930's and 40's. It was first motivated by the Army desire to meet the nutritional requirements of the soldier while minimizing the cost. \n"
   ]
  },
  {
   "cell_type": "markdown",
   "metadata": {},
   "source": [
    "# Mathematical Model"
   ]
  },
  {
   "cell_type": "markdown",
   "metadata": {},
   "source": [
    "The problem is formulated as a linear program where the objective is to minimize cost and meet constraints which require that nutritional needs be satisfied. They include constraints that regulate the number of calories and amounts of vitamins, minerals, fats, sodium and cholesterol in the diet.  \n",
    "\n",
    "Let us introduce the following notations:\n",
    "\n",
    "m-number of nutrients, \n",
    "n-number of foods\n",
    "C - vector of food unit cost\n",
    "$$c=(c_1,..c_n)$$\n",
    "matrix A - amount of nutrient j in food i\n",
    "$$A=(a_{ij})$$ \n",
    "b-vector of daily nutritional requirements\n",
    "$$b=(b_1,..b_m)$$\n",
    "X- decision vector ( numbers of servings of each food in daily diet)\n",
    "$$X=(x_1,..x_n)$$ \n",
    "\n",
    "Then $\\sum_{i=1}^n{c_i x_i}$ is a cost of daily diet\n",
    "\n",
    "$\\sum_{i=1}^n{a_{ij} x_i}$ is the amount of nutrient j in daily diet\n",
    "\n",
    "the optimization problem is formulated as follows:\n",
    "\n",
    "objective - minimize cost of daily diet:\n",
    "$$\\min_x(\\sum_{i=1}^n{c_i x_i})$$\n",
    "\n",
    "constraints: amounts of nutrients in daily diet should satisfy daily nutritional requirements:\n",
    "$$\\sum_{i=1}^n{a_{ij} x_i}>=b_j, j=1,m$$\n",
    "$$x_i>=0, i=1,n$$\n",
    "\n",
    "\n",
    "\n"
   ]
  },
  {
   "cell_type": "markdown",
   "metadata": {},
   "source": []
  }
 ],
 "metadata": {
  "kernelspec": {
   "display_name": "Python 3",
   "language": "python",
   "name": "python3"
  },
  "language_info": {
   "codemirror_mode": {
    "name": "ipython",
    "version": 3
   },
   "file_extension": ".py",
   "mimetype": "text/x-python",
   "name": "python",
   "nbconvert_exporter": "python",
   "pygments_lexer": "ipython3",
   "version": "3.6.5"
  }
 },
 "nbformat": 4,
 "nbformat_minor": 2
}
