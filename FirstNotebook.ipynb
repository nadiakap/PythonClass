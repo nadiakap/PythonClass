{
 "cells": [
  {
   "cell_type": "markdown",
   "metadata": {},
   "source": [
    "# My First Jupiter Notebook"
   ]
  },
  {
   "cell_type": "markdown",
   "metadata": {},
   "source": [
    "# Exercise 1: load a dataset and display it "
   ]
  },
  {
   "cell_type": "code",
   "execution_count": 8,
   "metadata": {},
   "outputs": [
    {
     "data": {
      "text/html": [
       "<div>\n",
       "<style scoped>\n",
       "    .dataframe tbody tr th:only-of-type {\n",
       "        vertical-align: middle;\n",
       "    }\n",
       "\n",
       "    .dataframe tbody tr th {\n",
       "        vertical-align: top;\n",
       "    }\n",
       "\n",
       "    .dataframe thead th {\n",
       "        text-align: right;\n",
       "    }\n",
       "</style>\n",
       "<table border=\"1\" class=\"dataframe\">\n",
       "  <thead>\n",
       "    <tr style=\"text-align: right;\">\n",
       "      <th></th>\n",
       "      <th>0</th>\n",
       "      <th>1</th>\n",
       "      <th>2</th>\n",
       "      <th>3</th>\n",
       "      <th>4</th>\n",
       "      <th>5</th>\n",
       "      <th>6</th>\n",
       "      <th>7</th>\n",
       "      <th>8</th>\n",
       "      <th>9</th>\n",
       "      <th>10</th>\n",
       "      <th>11</th>\n",
       "      <th>12</th>\n",
       "    </tr>\n",
       "  </thead>\n",
       "  <tbody>\n",
       "    <tr>\n",
       "      <th>0</th>\n",
       "      <td>14.23</td>\n",
       "      <td>1.71</td>\n",
       "      <td>2.43</td>\n",
       "      <td>15.6</td>\n",
       "      <td>127.0</td>\n",
       "      <td>2.80</td>\n",
       "      <td>3.06</td>\n",
       "      <td>0.28</td>\n",
       "      <td>2.29</td>\n",
       "      <td>5.64</td>\n",
       "      <td>1.04</td>\n",
       "      <td>3.92</td>\n",
       "      <td>1065.0</td>\n",
       "    </tr>\n",
       "    <tr>\n",
       "      <th>1</th>\n",
       "      <td>13.20</td>\n",
       "      <td>1.78</td>\n",
       "      <td>2.14</td>\n",
       "      <td>11.2</td>\n",
       "      <td>100.0</td>\n",
       "      <td>2.65</td>\n",
       "      <td>2.76</td>\n",
       "      <td>0.26</td>\n",
       "      <td>1.28</td>\n",
       "      <td>4.38</td>\n",
       "      <td>1.05</td>\n",
       "      <td>3.40</td>\n",
       "      <td>1050.0</td>\n",
       "    </tr>\n",
       "    <tr>\n",
       "      <th>2</th>\n",
       "      <td>13.16</td>\n",
       "      <td>2.36</td>\n",
       "      <td>2.67</td>\n",
       "      <td>18.6</td>\n",
       "      <td>101.0</td>\n",
       "      <td>2.80</td>\n",
       "      <td>3.24</td>\n",
       "      <td>0.30</td>\n",
       "      <td>2.81</td>\n",
       "      <td>5.68</td>\n",
       "      <td>1.03</td>\n",
       "      <td>3.17</td>\n",
       "      <td>1185.0</td>\n",
       "    </tr>\n",
       "    <tr>\n",
       "      <th>3</th>\n",
       "      <td>14.37</td>\n",
       "      <td>1.95</td>\n",
       "      <td>2.50</td>\n",
       "      <td>16.8</td>\n",
       "      <td>113.0</td>\n",
       "      <td>3.85</td>\n",
       "      <td>3.49</td>\n",
       "      <td>0.24</td>\n",
       "      <td>2.18</td>\n",
       "      <td>7.80</td>\n",
       "      <td>0.86</td>\n",
       "      <td>3.45</td>\n",
       "      <td>1480.0</td>\n",
       "    </tr>\n",
       "    <tr>\n",
       "      <th>4</th>\n",
       "      <td>13.24</td>\n",
       "      <td>2.59</td>\n",
       "      <td>2.87</td>\n",
       "      <td>21.0</td>\n",
       "      <td>118.0</td>\n",
       "      <td>2.80</td>\n",
       "      <td>2.69</td>\n",
       "      <td>0.39</td>\n",
       "      <td>1.82</td>\n",
       "      <td>4.32</td>\n",
       "      <td>1.04</td>\n",
       "      <td>2.93</td>\n",
       "      <td>735.0</td>\n",
       "    </tr>\n",
       "  </tbody>\n",
       "</table>\n",
       "</div>"
      ],
      "text/plain": [
       "      0     1     2     3      4     5     6     7     8     9     10    11  \\\n",
       "0  14.23  1.71  2.43  15.6  127.0  2.80  3.06  0.28  2.29  5.64  1.04  3.92   \n",
       "1  13.20  1.78  2.14  11.2  100.0  2.65  2.76  0.26  1.28  4.38  1.05  3.40   \n",
       "2  13.16  2.36  2.67  18.6  101.0  2.80  3.24  0.30  2.81  5.68  1.03  3.17   \n",
       "3  14.37  1.95  2.50  16.8  113.0  3.85  3.49  0.24  2.18  7.80  0.86  3.45   \n",
       "4  13.24  2.59  2.87  21.0  118.0  2.80  2.69  0.39  1.82  4.32  1.04  2.93   \n",
       "\n",
       "       12  \n",
       "0  1065.0  \n",
       "1  1050.0  \n",
       "2  1185.0  \n",
       "3  1480.0  \n",
       "4   735.0  "
      ]
     },
     "execution_count": 8,
     "metadata": {},
     "output_type": "execute_result"
    }
   ],
   "source": [
    "# import numpy as np\n",
    "import pandas as pd\n",
    "import sklearn.datasets as ds\n",
    "\n",
    "\n",
    "data = ds.load_wine(return_X_y = True)\n",
    "df_data = pd.DataFrame(data[0])\n",
    "\n",
    "df_data.head()"
   ]
  },
  {
   "cell_type": "markdown",
   "metadata": {},
   "source": [
    "# Exercise 2: run Monte Carlo for computing $\\pi$ and display a picture\n"
   ]
  },
  {
   "cell_type": "markdown",
   "metadata": {},
   "source": [
    "\n",
    "Monte Carlo methods are numerical methods that are based on random numbers.  Mathematical justification for such methods relies on two theorems, the Central Limit Theorem (CLT) and the Law of Large Numbers. Before delving into the mathematics, let us consider an intuitive example.\n",
    "Suppose we want to estimate the area of a figure of an uncertain shape. \n",
    "We can make a square circumscribed around this figure and compute its area. This is easy—we only need to know the length of a side of the square. At the very least, we now have an upper bound for the area of our figure. However, we can improve the estimate of the figure’s area. If we randomly throw points into the square, then some points will land outside the  shape and some points will land inside it. Let us say we have a mechanism for throwing the points in such a way that there is equal probability for each point to land anywhere in the square. Also suppose we have a test to determine whether a point is in the shape inside the square.\n",
    "If we throw enough points, the square will be roughly uniformly covered by the points. That is, eventually the number of points inside the square $N_s$ should be  proportional to the area of the square $A_s$. Then, the number of the points inside our figure $N_f$ is proportional to the area of the figure $A_f$.\n",
    "From these two proportions we can write the equation:$ \\frac{N_s}{N_f}=\\frac{A_s}{A_f} $. Then $A_f = A_s*\\frac{N_f}{N_s}$ .\n",
    "Note that we found the estimate of the area of the figure. As the number of throwing points increases, the estimate is improved.\n",
    "This kind of estimation is only possible if we have a good pseudo random number generation tool.\n",
    "We will use the Python package called “Random” and a function contained in it, also called “random,” to generate uniformly distributed pseudo random numbers between 0 and 1. We will generate both coordinates of the points separately. \n"
   ]
  },
  {
   "cell_type": "code",
   "execution_count": 21,
   "metadata": {},
   "outputs": [
    {
     "data": {
      "text/plain": [
       "(0.7417869892607294, 0.6229016948897019)"
      ]
     },
     "execution_count": 21,
     "metadata": {},
     "output_type": "execute_result"
    }
   ],
   "source": [
    "import random as rnd\n",
    "#initialization of random number generator\n",
    "rnd.seed(5)\n",
    "y = rnd.random()\n",
    "x = rnd.random()\n",
    "x,y"
   ]
  },
  {
   "cell_type": "markdown",
   "metadata": {},
   "source": [
    "Before computing the area of an unknown figure using the suggested algorithm, let us make sure that this algorithm works. One way of ensuring it does is to consider a figure with a known area, compute this area using our method, and see if our method gives the correct value for the area. If we take a circle with radius R/2 inscribed in square with side R, we get: $$A_s=R^2 $$.\n",
    "$$A_f=\\pi*(R/2)^2 $$.\n",
    "$\\pi$ is a constant equal to 3.1415…\n",
    "The ratio $A_f/A_s$ should equal $\\pi/4$.\n",
    "The program that follows simulates the process of throwing points into a square.\n",
    "Let's see whether the ratio of points landing inside the circle to the number of total points thrown into the square is equal to $\\pi/4$. This will confirm our method of estimating the area of the inscribed figure.\n",
    "When doing simulations, we will have to choose a certain size for side R. Let us set R = 1 and consider one fourth of the square and one fourth of the inscribed circle. Let us say that the center of the square and the circle is in the origin (coordinates of the point will be denoted x and y). Then, the condition for the point to be inside the circle is $X^2+Y^2<1$ .\n"
   ]
  },
  {
   "cell_type": "code",
   "execution_count": 22,
   "metadata": {},
   "outputs": [
    {
     "data": {
      "text/plain": [
       "3.128"
      ]
     },
     "execution_count": 22,
     "metadata": {},
     "output_type": "execute_result"
    }
   ],
   "source": [
    "points_in_circle = 0\n",
    "n = 10**3\n",
    "\n",
    "x_in_circle = []\n",
    "y_in_circle = []\n",
    "x_out_circle = []\n",
    "y_out_circle = []\n",
    "\n",
    "for _ in range(n):\n",
    "    x = rnd.random()\n",
    "    y = rnd.random()\n",
    "    if x**2+y**2 <= 1:\n",
    "        points_in_circle += 1\n",
    "        x_in_circle.append(x)\n",
    "        y_in_circle.append(y)\n",
    "    else:\n",
    "        x_out_circle.append(x)\n",
    "        y_out_circle.append(y)\n",
    "\n",
    "pi = 4*points_in_circle/n\n",
    "pi\n"
   ]
  },
  {
   "cell_type": "markdown",
   "metadata": {},
   "source": [
    "When number of simulation is only 1000 the precision is not so good..."
   ]
  },
  {
   "cell_type": "code",
   "execution_count": 13,
   "metadata": {},
   "outputs": [
    {
     "data": {
      "text/plain": [
       "<matplotlib.collections.PathCollection at 0x25932868080>"
      ]
     },
     "execution_count": 13,
     "metadata": {},
     "output_type": "execute_result"
    },
    {
     "data": {
      "image/png": "[encoded data removed]",
      "text/plain": [
       "<Figure size 432x288 with 1 Axes>"
      ]
     },
     "metadata": {},
     "output_type": "display_data"
    }
   ],
   "source": [
    "import matplotlib.pyplot as plt\n",
    "fig, ax = plt.subplots()\n",
    "ax.set_aspect('equal')\n",
    "ax.scatter(x_in_circle, y_in_circle, color='b', marker='s')\n",
    "ax.scatter(x_out_circle, y_out_circle, color='r', marker='s')\n",
    "\n"
   ]
  },
  {
   "cell_type": "code",
   "execution_count": null,
   "metadata": {},
   "outputs": [],
   "source": [
    "Let us increase the number of simulations to 1000000"
   ]
  },
  {
   "cell_type": "code",
   "execution_count": 23,
   "metadata": {},
   "outputs": [
    {
     "data": {
      "text/plain": [
       "3.14352"
      ]
     },
     "execution_count": 23,
     "metadata": {},
     "output_type": "execute_result"
    }
   ],
   "source": [
    "points_in_circle = 0\n",
    "n = 10**6\n",
    "\n",
    "x_in_circle = []\n",
    "y_in_circle = []\n",
    "x_out_circle = []\n",
    "y_out_circle = []\n",
    "\n",
    "for _ in range(n):\n",
    "    x = rnd.random()\n",
    "    y = rnd.random()\n",
    "    if x**2+y**2 <= 1:\n",
    "        points_in_circle += 1\n",
    "        x_in_circle.append(x)\n",
    "        y_in_circle.append(y)\n",
    "    else:\n",
    "        x_out_circle.append(x)\n",
    "        y_out_circle.append(y)\n",
    "\n",
    "pi = 4*points_in_circle/n\n",
    "pi"
   ]
  },
  {
   "cell_type": "code",
   "execution_count": 18,
   "metadata": {},
   "outputs": [
    {
     "data": {
      "text/plain": [
       "<matplotlib.collections.PathCollection at 0x259328800b8>"
      ]
     },
     "execution_count": 18,
     "metadata": {},
     "output_type": "execute_result"
    },
    {
     "data": {
      "image/png": "[encoded data removed]",
      "text/plain": [
       "<Figure size 432x288 with 1 Axes>"
      ]
     },
     "metadata": {},
     "output_type": "display_data"
    }
   ],
   "source": [
    "fig, ax = plt.subplots()\n",
    "ax.set_aspect('equal')\n",
    "ax.scatter(x_in_circle, y_in_circle, color='b', marker='s')\n",
    "ax.scatter(x_out_circle, y_out_circle, color='r', marker='s')\n"
   ]
  },
  {
   "cell_type": "markdown",
   "metadata": {},
   "source": [
    "# Useful links"
   ]
  },
  {
   "cell_type": "markdown",
   "metadata": {},
   "source": [
    "[basics of creating a Jupiter notebooks](https://medium.com/analytics-vidhya/writing-math-equations-in-jupyter-notebook-a-naive-introduction-a5ce87b9a214)\n",
    "\n",
    "[basics of markdown language](https://gtribello.github.io/mathNET/assets/notebook-writing.html)"
   ]
  },
  {
   "cell_type": "markdown",
   "metadata": {},
   "source": []
  }
 ],
 "metadata": {
  "kernelspec": {
   "display_name": "Python 3",
   "language": "python",
   "name": "python3"
  },
  "language_info": {
   "codemirror_mode": {
    "name": "ipython",
    "version": 3
   },
   "file_extension": ".py",
   "mimetype": "text/x-python",
   "name": "python",
   "nbconvert_exporter": "python",
   "pygments_lexer": "ipython3",
   "version": "3.6.5"
  }
 },
 "nbformat": 4,
 "nbformat_minor": 2
}
